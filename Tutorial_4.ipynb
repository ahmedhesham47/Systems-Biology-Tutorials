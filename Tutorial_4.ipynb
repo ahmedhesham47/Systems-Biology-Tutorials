{
  "nbformat": 4,
  "nbformat_minor": 0,
  "metadata": {
    "colab": {
      "provenance": []
    },
    "kernelspec": {
      "name": "python3",
      "display_name": "Python 3"
    },
    "language_info": {
      "name": "python"
    }
  },
  "cells": [
    {
      "cell_type": "code",
      "source": [
        "!pip install cobra\n",
        "import cobra"
      ],
      "metadata": {
        "id": "AOU56oqSczJc"
      },
      "execution_count": 5,
      "outputs": []
    },
    {
      "cell_type": "code",
      "source": [
        "model = cobra.io.load_model(\"iJO1366\")"
      ],
      "metadata": {
        "id": "Yp6Dz1c3dDnk"
      },
      "execution_count": 6,
      "outputs": []
    },
    {
      "cell_type": "markdown",
      "source": [
        "# **Minimal Media Analysis**\n",
        "\n",
        "In some cases you might be interested in the smallest growth medium that can maintain a specific growth rate, the so called “minimal medium”. For this we provide the function minimal_medium which by default obtains the medium with the lowest total import flux. This function needs two arguments: the model and the minimum growth rate (or other objective) the model has to achieve."
      ],
      "metadata": {
        "id": "frccbKUNcwnl"
      }
    },
    {
      "cell_type": "code",
      "source": [
        "model.medium\n",
        "# This gives you a dictionary with the import reaction and its upper flux boundary.\n",
        "# Any rxn with a zero upper bound is not shown.\n",
        "# you can shot off oxygen (making the rxn anaerobic as follows):"
      ],
      "metadata": {
        "colab": {
          "base_uri": "https://localhost:8080/",
          "height": 0
        },
        "id": "AtynfyQ5SgWv",
        "outputId": "b23e6245-c452-470a-aefb-bfe46367c125"
      },
      "execution_count": 7,
      "outputs": [
        {
          "output_type": "execute_result",
          "data": {
            "text/plain": [
              "{'EX_ca2_e': 1000.0,\n",
              " 'EX_cbl1_e': 0.01,\n",
              " 'EX_cl_e': 1000.0,\n",
              " 'EX_co2_e': 1000.0,\n",
              " 'EX_cobalt2_e': 1000.0,\n",
              " 'EX_cu2_e': 1000.0,\n",
              " 'EX_fe2_e': 1000.0,\n",
              " 'EX_fe3_e': 1000.0,\n",
              " 'EX_glc__D_e': 10.0,\n",
              " 'EX_h_e': 1000.0,\n",
              " 'EX_h2o_e': 1000.0,\n",
              " 'EX_k_e': 1000.0,\n",
              " 'EX_mg2_e': 1000.0,\n",
              " 'EX_mn2_e': 1000.0,\n",
              " 'EX_mobd_e': 1000.0,\n",
              " 'EX_na1_e': 1000.0,\n",
              " 'EX_nh4_e': 1000.0,\n",
              " 'EX_ni2_e': 1000.0,\n",
              " 'EX_o2_e': 1000.0,\n",
              " 'EX_pi_e': 1000.0,\n",
              " 'EX_sel_e': 1000.0,\n",
              " 'EX_slnt_e': 1000.0,\n",
              " 'EX_so4_e': 1000.0,\n",
              " 'EX_tungs_e': 1000.0,\n",
              " 'EX_zn2_e': 1000.0}"
            ]
          },
          "metadata": {},
          "execution_count": 7
        }
      ]
    },
    {
      "cell_type": "code",
      "source": [
        "medium = model.medium\n",
        "medium[\"EX_o2_e\"] = 0.0\n",
        "model.medium = medium\n",
        "\n",
        "model.medium\n",
        "# as you can see now, oxygen is not among the reactions with a non-zero upper bound."
      ],
      "metadata": {
        "colab": {
          "base_uri": "https://localhost:8080/",
          "height": 0
        },
        "id": "r5WTHh9Zd5FD",
        "outputId": "3367c99c-b729-45f9-f361-cfd2ad0e1973"
      },
      "execution_count": 8,
      "outputs": [
        {
          "output_type": "execute_result",
          "data": {
            "text/plain": [
              "{'EX_ca2_e': 1000.0,\n",
              " 'EX_cbl1_e': 0.01,\n",
              " 'EX_cl_e': 1000.0,\n",
              " 'EX_co2_e': 1000.0,\n",
              " 'EX_cobalt2_e': 1000.0,\n",
              " 'EX_cu2_e': 1000.0,\n",
              " 'EX_fe2_e': 1000.0,\n",
              " 'EX_fe3_e': 1000.0,\n",
              " 'EX_glc__D_e': 10.0,\n",
              " 'EX_h_e': 1000.0,\n",
              " 'EX_h2o_e': 1000.0,\n",
              " 'EX_k_e': 1000.0,\n",
              " 'EX_mg2_e': 1000.0,\n",
              " 'EX_mn2_e': 1000.0,\n",
              " 'EX_mobd_e': 1000.0,\n",
              " 'EX_na1_e': 1000.0,\n",
              " 'EX_nh4_e': 1000.0,\n",
              " 'EX_ni2_e': 1000.0,\n",
              " 'EX_pi_e': 1000.0,\n",
              " 'EX_sel_e': 1000.0,\n",
              " 'EX_slnt_e': 1000.0,\n",
              " 'EX_so4_e': 1000.0,\n",
              " 'EX_tungs_e': 1000.0,\n",
              " 'EX_zn2_e': 1000.0}"
            ]
          },
          "metadata": {},
          "execution_count": 8
        }
      ]
    },
    {
      "cell_type": "code",
      "source": [
        "from cobra.medium import minimal_medium\n",
        "\n",
        "# since we shut off oxygen, let's open it again\n",
        "medium = model.medium\n",
        "medium[\"EX_o2_e\"] = 1000.0\n",
        "model.medium = medium\n",
        "\n",
        "max_growth = model.slim_optimize() # stores the optimal value\n",
        "minimal_medium = minimal_medium(model, max_growth)"
      ],
      "metadata": {
        "id": "xxRz4Ml2eXSj"
      },
      "execution_count": 18,
      "outputs": []
    },
    {
      "cell_type": "code",
      "source": [
        "minimal_medium # this stores the minimum flux of each import reaction to achieve the max_growth rate.\n",
        "# instead of max_growth, it can be some other maxiumum objective value (for a precursor or some other metabolite)"
      ],
      "metadata": {
        "colab": {
          "base_uri": "https://localhost:8080/",
          "height": 585
        },
        "id": "IF6OCJiGekVL",
        "outputId": "1a4aae1a-af82-4cbe-d380-32c7e8da7e32"
      },
      "execution_count": 14,
      "outputs": [
        {
          "output_type": "execute_result",
          "data": {
            "text/plain": [
              "EX_ca2_e         0.005113\n",
              "EX_cl_e          0.005113\n",
              "EX_cobalt2_e     0.000025\n",
              "EX_cu2_e         0.000697\n",
              "EX_fe2_e         0.015778\n",
              "EX_glc__D_e     10.000000\n",
              "EX_k_e           0.191752\n",
              "EX_mg2_e         0.008522\n",
              "EX_mn2_e         0.000679\n",
              "EX_mobd_e        0.000127\n",
              "EX_nh4_e        10.610425\n",
              "EX_ni2_e         0.000317\n",
              "EX_o2_e         17.578934\n",
              "EX_pi_e          0.947626\n",
              "EX_so4_e         0.247764\n",
              "EX_zn2_e         0.000335\n",
              "dtype: float64"
            ],
            "text/html": [
              "<div>\n",
              "<style scoped>\n",
              "    .dataframe tbody tr th:only-of-type {\n",
              "        vertical-align: middle;\n",
              "    }\n",
              "\n",
              "    .dataframe tbody tr th {\n",
              "        vertical-align: top;\n",
              "    }\n",
              "\n",
              "    .dataframe thead th {\n",
              "        text-align: right;\n",
              "    }\n",
              "</style>\n",
              "<table border=\"1\" class=\"dataframe\">\n",
              "  <thead>\n",
              "    <tr style=\"text-align: right;\">\n",
              "      <th></th>\n",
              "      <th>0</th>\n",
              "    </tr>\n",
              "  </thead>\n",
              "  <tbody>\n",
              "    <tr>\n",
              "      <th>EX_ca2_e</th>\n",
              "      <td>0.005113</td>\n",
              "    </tr>\n",
              "    <tr>\n",
              "      <th>EX_cl_e</th>\n",
              "      <td>0.005113</td>\n",
              "    </tr>\n",
              "    <tr>\n",
              "      <th>EX_cobalt2_e</th>\n",
              "      <td>0.000025</td>\n",
              "    </tr>\n",
              "    <tr>\n",
              "      <th>EX_cu2_e</th>\n",
              "      <td>0.000697</td>\n",
              "    </tr>\n",
              "    <tr>\n",
              "      <th>EX_fe2_e</th>\n",
              "      <td>0.015778</td>\n",
              "    </tr>\n",
              "    <tr>\n",
              "      <th>EX_glc__D_e</th>\n",
              "      <td>10.000000</td>\n",
              "    </tr>\n",
              "    <tr>\n",
              "      <th>EX_k_e</th>\n",
              "      <td>0.191752</td>\n",
              "    </tr>\n",
              "    <tr>\n",
              "      <th>EX_mg2_e</th>\n",
              "      <td>0.008522</td>\n",
              "    </tr>\n",
              "    <tr>\n",
              "      <th>EX_mn2_e</th>\n",
              "      <td>0.000679</td>\n",
              "    </tr>\n",
              "    <tr>\n",
              "      <th>EX_mobd_e</th>\n",
              "      <td>0.000127</td>\n",
              "    </tr>\n",
              "    <tr>\n",
              "      <th>EX_nh4_e</th>\n",
              "      <td>10.610425</td>\n",
              "    </tr>\n",
              "    <tr>\n",
              "      <th>EX_ni2_e</th>\n",
              "      <td>0.000317</td>\n",
              "    </tr>\n",
              "    <tr>\n",
              "      <th>EX_o2_e</th>\n",
              "      <td>17.578934</td>\n",
              "    </tr>\n",
              "    <tr>\n",
              "      <th>EX_pi_e</th>\n",
              "      <td>0.947626</td>\n",
              "    </tr>\n",
              "    <tr>\n",
              "      <th>EX_so4_e</th>\n",
              "      <td>0.247764</td>\n",
              "    </tr>\n",
              "    <tr>\n",
              "      <th>EX_zn2_e</th>\n",
              "      <td>0.000335</td>\n",
              "    </tr>\n",
              "  </tbody>\n",
              "</table>\n",
              "</div><br><label><b>dtype:</b> float64</label>"
            ]
          },
          "metadata": {},
          "execution_count": 14
        }
      ]
    },
    {
      "cell_type": "markdown",
      "source": [
        "# **Parsimonious FBA**\n",
        "\n",
        "Parsimonious FBA (often written pFBA) finds a flux distribution which gives the optimal growth rate, but **minimizes the total sum of flux**."
      ],
      "metadata": {
        "id": "BdMff8GLf3lP"
      }
    },
    {
      "cell_type": "code",
      "source": [
        "from cobra.flux_analysis import flux_variability_analysis\n",
        "fba_solution = model.optimize()\n",
        "pfba_solution = cobra.flux_analysis.pfba(model)"
      ],
      "metadata": {
        "id": "YM6cYFdff9MA"
      },
      "execution_count": 20,
      "outputs": []
    },
    {
      "cell_type": "code",
      "source": [
        "print(fba_solution)\n",
        "print(pfba_solution)\n",
        "# the objective evaluation of pfba gives a weird number that's not true\n",
        "# due to its definition of objective which is different from the definition of the objective in normal FBA\n",
        "# to get the true objective value, use pfba_solution.fluxes['rxn_name']"
      ],
      "metadata": {
        "colab": {
          "base_uri": "https://localhost:8080/",
          "height": 0
        },
        "id": "9wIOftfPgDPZ",
        "outputId": "ed643d62-e449-4ba9-ffa9-1b1ab79663e8"
      },
      "execution_count": 21,
      "outputs": [
        {
          "output_type": "stream",
          "name": "stdout",
          "text": [
            "<Solution 0.982 at 0x7b0a283677c0>\n",
            "<Solution 699.022 at 0x7b0a27640d00>\n"
          ]
        }
      ]
    },
    {
      "cell_type": "code",
      "source": [
        "print(fba_solution.fluxes['BIOMASS_Ec_iJO1366_core_53p95M'])\n",
        "print(pfba_solution.fluxes['BIOMASS_Ec_iJO1366_core_53p95M'])\n",
        "\n",
        "print(fba_solution.fluxes.sum())\n",
        "print(pfba_solution.fluxes.sum())\n",
        "\n",
        "# As you see, they're almost identical. But pfba_solution has a lower sum of fluxes!"
      ],
      "metadata": {
        "colab": {
          "base_uri": "https://localhost:8080/",
          "height": 0
        },
        "id": "dnhb7qargzbG",
        "outputId": "2d4971c7-8deb-41a4-da78-e81957f06adf"
      },
      "execution_count": 33,
      "outputs": [
        {
          "output_type": "stream",
          "name": "stdout",
          "text": [
            "0.982371812726983\n",
            "0.982371812726991\n",
            "278.69960574472225\n",
            "217.0050155589294\n"
          ]
        }
      ]
    },
    {
      "cell_type": "markdown",
      "source": [
        "**Question 1: What does it tell you about the organism's metabolic network if the normal FBA and parominous FBA produce the same sum of fluxes for the same objective value?**"
      ],
      "metadata": {
        "id": "8_QIItagkPhN"
      }
    },
    {
      "cell_type": "markdown",
      "source": [
        "Your answer"
      ],
      "metadata": {
        "id": "KgnW-1LtknOl"
      }
    },
    {
      "cell_type": "markdown",
      "source": [
        "# **Flux Sampling**\n",
        "\n",
        "While flux variability analysis determines the minimum and maximum value of a reaction flux given some network constraints, Monte-Carlo-sampling can be used to determine **a probability flux\n",
        "distribution for each network reaction**. Therefore, this analysis helps you answer the question of \"***how probable is a flux through a reaction?***\""
      ],
      "metadata": {
        "id": "ESIr_ufojGKV"
      }
    },
    {
      "cell_type": "code",
      "source": [
        "from cobra.sampling import sample\n",
        "s = sample(model, 100)\n",
        "s"
      ],
      "metadata": {
        "colab": {
          "base_uri": "https://localhost:8080/",
          "height": 617
        },
        "id": "DKN7tM0YiGsF",
        "outputId": "f1688ff6-704f-4918-bc5b-a82026b454e9"
      },
      "execution_count": 34,
      "outputs": [
        {
          "output_type": "execute_result",
          "data": {
            "text/plain": [
              "     DM_4crsol_c    DM_5drib_c   DM_aacald_c     DM_amob_c   DM_mththf_c  \\\n",
              "0   2.739926e-10  9.111979e-08  2.031172e-17  2.457333e-12  1.000160e-06   \n",
              "1   4.015349e-08  1.259621e-07  2.035662e-17  3.601210e-10  1.161808e-06   \n",
              "2   1.545395e-07  2.434727e-07  1.990273e-17  1.386004e-09  9.900894e-07   \n",
              "3   2.189385e-07  3.102890e-07  1.932009e-17  1.963574e-09  1.378245e-06   \n",
              "4   1.738078e-07  1.819194e-07 -8.221013e-18  1.558814e-09  1.729070e-06   \n",
              "..           ...           ...           ...           ...           ...   \n",
              "95  2.472534e-06  9.265937e-03  2.481379e-14  2.217520e-08  1.281832e-03   \n",
              "96  2.228335e-06  9.290272e-03  2.477547e-14  1.998507e-08  1.017061e-02   \n",
              "97  1.874205e-06  9.290391e-03  2.719540e-14  1.680901e-08  7.397481e-03   \n",
              "98  4.822052e-06  9.308850e-03  2.768273e-14  4.324710e-08  7.435512e-03   \n",
              "99  4.517029e-06  9.269009e-03  2.719454e-14  4.051147e-08  4.444040e-02   \n",
              "\n",
              "       DM_oxam_c  BIOMASS_Ec_iJO1366_WT_53p95M  \\\n",
              "0   7.803951e-07                  9.816370e-07   \n",
              "1   7.252580e-07                  1.714908e-04   \n",
              "2   4.771754e-07                  6.774967e-04   \n",
              "3   4.780959e-07                  9.662814e-04   \n",
              "4   4.775829e-07                  7.785314e-04   \n",
              "..           ...                           ...   \n",
              "95  6.952237e-02                  1.013259e-02   \n",
              "96  6.967119e-02                  9.006667e-03   \n",
              "97  6.967393e-02                  7.418472e-03   \n",
              "98  6.976890e-02                  8.641235e-03   \n",
              "99  7.988782e-02                  5.059912e-03   \n",
              "\n",
              "    BIOMASS_Ec_iJO1366_core_53p95M  EX_12ppd__R_e  EX_12ppd__S_e  ...  \\\n",
              "0                     2.470295e-07   8.052913e-07   5.897251e-07  ...   \n",
              "1                     8.569693e-06   3.930378e-05   5.480593e-07  ...   \n",
              "2                     1.550554e-05   3.928797e-05   5.419743e-07  ...   \n",
              "3                     1.550574e-05   3.928874e-05   5.426688e-07  ...   \n",
              "4                     8.755870e-07   5.321236e-05   5.422798e-07  ...   \n",
              "..                             ...            ...            ...  ...   \n",
              "95                    9.550066e-04   3.766196e-02   2.705564e-02  ...   \n",
              "96                    9.858687e-04   3.776553e-02   2.711746e-02  ...   \n",
              "97                    9.860335e-04   3.776712e-02   2.711854e-02  ...   \n",
              "98                    1.298232e-02   3.783218e-02   2.715782e-02  ...   \n",
              "99                    1.519582e-02   3.766598e-02   2.705788e-02  ...   \n",
              "\n",
              "    XYLUt2pp  XYLUtex  XYLabcpp  XYLt2pp  XYLtex  ZN2abcpp   ZN2t3pp  \\\n",
              "0        0.0      0.0       0.0      0.0     0.0  0.000003  0.000016   \n",
              "1        0.0      0.0       0.0      0.0     0.0  0.000003  0.000014   \n",
              "2        0.0      0.0       0.0      0.0     0.0  0.000003  0.000014   \n",
              "3        0.0      0.0       0.0      0.0     0.0  0.000003  0.000014   \n",
              "4        0.0      0.0       0.0      0.0     0.0  0.000003  0.000219   \n",
              "..       ...      ...       ...      ...     ...       ...       ...   \n",
              "95       0.0      0.0       0.0      0.0     0.0  1.836618  0.648177   \n",
              "96       0.0      0.0       0.0      0.0     0.0  1.838189  0.654356   \n",
              "97       0.0      0.0       0.0      0.0     0.0  1.838252  0.654403   \n",
              "98       0.0      0.0       0.0      0.0     0.0  1.839360  0.658132   \n",
              "99       0.0      0.0       0.0      0.0     0.0  1.836635  0.648471   \n",
              "\n",
              "      ZN2tpp   ZNabcpp        Zn2tex  \n",
              "0   0.000016  0.000003  4.022875e-10  \n",
              "1   0.000015  0.000002  5.848529e-08  \n",
              "2   0.000015  0.000002  2.247963e-07  \n",
              "3   0.000015  0.000002  3.183626e-07  \n",
              "4   0.000220  0.000002  2.525428e-07  \n",
              "..       ...       ...           ...  \n",
              "95  2.279164  0.205634  3.608617e-06  \n",
              "96  2.286744  0.205805  3.254341e-06  \n",
              "97  2.286845  0.205812  2.739822e-06  \n",
              "98  2.291566  0.205933  7.226730e-06  \n",
              "99  2.279477  0.205636  6.821188e-06  \n",
              "\n",
              "[100 rows x 2583 columns]"
            ],
            "text/html": [
              "\n",
              "  <div id=\"df-373708f6-4146-4493-85e8-dd03d3cfd5a1\" class=\"colab-df-container\">\n",
              "    <div>\n",
              "<style scoped>\n",
              "    .dataframe tbody tr th:only-of-type {\n",
              "        vertical-align: middle;\n",
              "    }\n",
              "\n",
              "    .dataframe tbody tr th {\n",
              "        vertical-align: top;\n",
              "    }\n",
              "\n",
              "    .dataframe thead th {\n",
              "        text-align: right;\n",
              "    }\n",
              "</style>\n",
              "<table border=\"1\" class=\"dataframe\">\n",
              "  <thead>\n",
              "    <tr style=\"text-align: right;\">\n",
              "      <th></th>\n",
              "      <th>DM_4crsol_c</th>\n",
              "      <th>DM_5drib_c</th>\n",
              "      <th>DM_aacald_c</th>\n",
              "      <th>DM_amob_c</th>\n",
              "      <th>DM_mththf_c</th>\n",
              "      <th>DM_oxam_c</th>\n",
              "      <th>BIOMASS_Ec_iJO1366_WT_53p95M</th>\n",
              "      <th>BIOMASS_Ec_iJO1366_core_53p95M</th>\n",
              "      <th>EX_12ppd__R_e</th>\n",
              "      <th>EX_12ppd__S_e</th>\n",
              "      <th>...</th>\n",
              "      <th>XYLUt2pp</th>\n",
              "      <th>XYLUtex</th>\n",
              "      <th>XYLabcpp</th>\n",
              "      <th>XYLt2pp</th>\n",
              "      <th>XYLtex</th>\n",
              "      <th>ZN2abcpp</th>\n",
              "      <th>ZN2t3pp</th>\n",
              "      <th>ZN2tpp</th>\n",
              "      <th>ZNabcpp</th>\n",
              "      <th>Zn2tex</th>\n",
              "    </tr>\n",
              "  </thead>\n",
              "  <tbody>\n",
              "    <tr>\n",
              "      <th>0</th>\n",
              "      <td>2.739926e-10</td>\n",
              "      <td>9.111979e-08</td>\n",
              "      <td>2.031172e-17</td>\n",
              "      <td>2.457333e-12</td>\n",
              "      <td>1.000160e-06</td>\n",
              "      <td>7.803951e-07</td>\n",
              "      <td>9.816370e-07</td>\n",
              "      <td>2.470295e-07</td>\n",
              "      <td>8.052913e-07</td>\n",
              "      <td>5.897251e-07</td>\n",
              "      <td>...</td>\n",
              "      <td>0.0</td>\n",
              "      <td>0.0</td>\n",
              "      <td>0.0</td>\n",
              "      <td>0.0</td>\n",
              "      <td>0.0</td>\n",
              "      <td>0.000003</td>\n",
              "      <td>0.000016</td>\n",
              "      <td>0.000016</td>\n",
              "      <td>0.000003</td>\n",
              "      <td>4.022875e-10</td>\n",
              "    </tr>\n",
              "    <tr>\n",
              "      <th>1</th>\n",
              "      <td>4.015349e-08</td>\n",
              "      <td>1.259621e-07</td>\n",
              "      <td>2.035662e-17</td>\n",
              "      <td>3.601210e-10</td>\n",
              "      <td>1.161808e-06</td>\n",
              "      <td>7.252580e-07</td>\n",
              "      <td>1.714908e-04</td>\n",
              "      <td>8.569693e-06</td>\n",
              "      <td>3.930378e-05</td>\n",
              "      <td>5.480593e-07</td>\n",
              "      <td>...</td>\n",
              "      <td>0.0</td>\n",
              "      <td>0.0</td>\n",
              "      <td>0.0</td>\n",
              "      <td>0.0</td>\n",
              "      <td>0.0</td>\n",
              "      <td>0.000003</td>\n",
              "      <td>0.000014</td>\n",
              "      <td>0.000015</td>\n",
              "      <td>0.000002</td>\n",
              "      <td>5.848529e-08</td>\n",
              "    </tr>\n",
              "    <tr>\n",
              "      <th>2</th>\n",
              "      <td>1.545395e-07</td>\n",
              "      <td>2.434727e-07</td>\n",
              "      <td>1.990273e-17</td>\n",
              "      <td>1.386004e-09</td>\n",
              "      <td>9.900894e-07</td>\n",
              "      <td>4.771754e-07</td>\n",
              "      <td>6.774967e-04</td>\n",
              "      <td>1.550554e-05</td>\n",
              "      <td>3.928797e-05</td>\n",
              "      <td>5.419743e-07</td>\n",
              "      <td>...</td>\n",
              "      <td>0.0</td>\n",
              "      <td>0.0</td>\n",
              "      <td>0.0</td>\n",
              "      <td>0.0</td>\n",
              "      <td>0.0</td>\n",
              "      <td>0.000003</td>\n",
              "      <td>0.000014</td>\n",
              "      <td>0.000015</td>\n",
              "      <td>0.000002</td>\n",
              "      <td>2.247963e-07</td>\n",
              "    </tr>\n",
              "    <tr>\n",
              "      <th>3</th>\n",
              "      <td>2.189385e-07</td>\n",
              "      <td>3.102890e-07</td>\n",
              "      <td>1.932009e-17</td>\n",
              "      <td>1.963574e-09</td>\n",
              "      <td>1.378245e-06</td>\n",
              "      <td>4.780959e-07</td>\n",
              "      <td>9.662814e-04</td>\n",
              "      <td>1.550574e-05</td>\n",
              "      <td>3.928874e-05</td>\n",
              "      <td>5.426688e-07</td>\n",
              "      <td>...</td>\n",
              "      <td>0.0</td>\n",
              "      <td>0.0</td>\n",
              "      <td>0.0</td>\n",
              "      <td>0.0</td>\n",
              "      <td>0.0</td>\n",
              "      <td>0.000003</td>\n",
              "      <td>0.000014</td>\n",
              "      <td>0.000015</td>\n",
              "      <td>0.000002</td>\n",
              "      <td>3.183626e-07</td>\n",
              "    </tr>\n",
              "    <tr>\n",
              "      <th>4</th>\n",
              "      <td>1.738078e-07</td>\n",
              "      <td>1.819194e-07</td>\n",
              "      <td>-8.221013e-18</td>\n",
              "      <td>1.558814e-09</td>\n",
              "      <td>1.729070e-06</td>\n",
              "      <td>4.775829e-07</td>\n",
              "      <td>7.785314e-04</td>\n",
              "      <td>8.755870e-07</td>\n",
              "      <td>5.321236e-05</td>\n",
              "      <td>5.422798e-07</td>\n",
              "      <td>...</td>\n",
              "      <td>0.0</td>\n",
              "      <td>0.0</td>\n",
              "      <td>0.0</td>\n",
              "      <td>0.0</td>\n",
              "      <td>0.0</td>\n",
              "      <td>0.000003</td>\n",
              "      <td>0.000219</td>\n",
              "      <td>0.000220</td>\n",
              "      <td>0.000002</td>\n",
              "      <td>2.525428e-07</td>\n",
              "    </tr>\n",
              "    <tr>\n",
              "      <th>...</th>\n",
              "      <td>...</td>\n",
              "      <td>...</td>\n",
              "      <td>...</td>\n",
              "      <td>...</td>\n",
              "      <td>...</td>\n",
              "      <td>...</td>\n",
              "      <td>...</td>\n",
              "      <td>...</td>\n",
              "      <td>...</td>\n",
              "      <td>...</td>\n",
              "      <td>...</td>\n",
              "      <td>...</td>\n",
              "      <td>...</td>\n",
              "      <td>...</td>\n",
              "      <td>...</td>\n",
              "      <td>...</td>\n",
              "      <td>...</td>\n",
              "      <td>...</td>\n",
              "      <td>...</td>\n",
              "      <td>...</td>\n",
              "      <td>...</td>\n",
              "    </tr>\n",
              "    <tr>\n",
              "      <th>95</th>\n",
              "      <td>2.472534e-06</td>\n",
              "      <td>9.265937e-03</td>\n",
              "      <td>2.481379e-14</td>\n",
              "      <td>2.217520e-08</td>\n",
              "      <td>1.281832e-03</td>\n",
              "      <td>6.952237e-02</td>\n",
              "      <td>1.013259e-02</td>\n",
              "      <td>9.550066e-04</td>\n",
              "      <td>3.766196e-02</td>\n",
              "      <td>2.705564e-02</td>\n",
              "      <td>...</td>\n",
              "      <td>0.0</td>\n",
              "      <td>0.0</td>\n",
              "      <td>0.0</td>\n",
              "      <td>0.0</td>\n",
              "      <td>0.0</td>\n",
              "      <td>1.836618</td>\n",
              "      <td>0.648177</td>\n",
              "      <td>2.279164</td>\n",
              "      <td>0.205634</td>\n",
              "      <td>3.608617e-06</td>\n",
              "    </tr>\n",
              "    <tr>\n",
              "      <th>96</th>\n",
              "      <td>2.228335e-06</td>\n",
              "      <td>9.290272e-03</td>\n",
              "      <td>2.477547e-14</td>\n",
              "      <td>1.998507e-08</td>\n",
              "      <td>1.017061e-02</td>\n",
              "      <td>6.967119e-02</td>\n",
              "      <td>9.006667e-03</td>\n",
              "      <td>9.858687e-04</td>\n",
              "      <td>3.776553e-02</td>\n",
              "      <td>2.711746e-02</td>\n",
              "      <td>...</td>\n",
              "      <td>0.0</td>\n",
              "      <td>0.0</td>\n",
              "      <td>0.0</td>\n",
              "      <td>0.0</td>\n",
              "      <td>0.0</td>\n",
              "      <td>1.838189</td>\n",
              "      <td>0.654356</td>\n",
              "      <td>2.286744</td>\n",
              "      <td>0.205805</td>\n",
              "      <td>3.254341e-06</td>\n",
              "    </tr>\n",
              "    <tr>\n",
              "      <th>97</th>\n",
              "      <td>1.874205e-06</td>\n",
              "      <td>9.290391e-03</td>\n",
              "      <td>2.719540e-14</td>\n",
              "      <td>1.680901e-08</td>\n",
              "      <td>7.397481e-03</td>\n",
              "      <td>6.967393e-02</td>\n",
              "      <td>7.418472e-03</td>\n",
              "      <td>9.860335e-04</td>\n",
              "      <td>3.776712e-02</td>\n",
              "      <td>2.711854e-02</td>\n",
              "      <td>...</td>\n",
              "      <td>0.0</td>\n",
              "      <td>0.0</td>\n",
              "      <td>0.0</td>\n",
              "      <td>0.0</td>\n",
              "      <td>0.0</td>\n",
              "      <td>1.838252</td>\n",
              "      <td>0.654403</td>\n",
              "      <td>2.286845</td>\n",
              "      <td>0.205812</td>\n",
              "      <td>2.739822e-06</td>\n",
              "    </tr>\n",
              "    <tr>\n",
              "      <th>98</th>\n",
              "      <td>4.822052e-06</td>\n",
              "      <td>9.308850e-03</td>\n",
              "      <td>2.768273e-14</td>\n",
              "      <td>4.324710e-08</td>\n",
              "      <td>7.435512e-03</td>\n",
              "      <td>6.976890e-02</td>\n",
              "      <td>8.641235e-03</td>\n",
              "      <td>1.298232e-02</td>\n",
              "      <td>3.783218e-02</td>\n",
              "      <td>2.715782e-02</td>\n",
              "      <td>...</td>\n",
              "      <td>0.0</td>\n",
              "      <td>0.0</td>\n",
              "      <td>0.0</td>\n",
              "      <td>0.0</td>\n",
              "      <td>0.0</td>\n",
              "      <td>1.839360</td>\n",
              "      <td>0.658132</td>\n",
              "      <td>2.291566</td>\n",
              "      <td>0.205933</td>\n",
              "      <td>7.226730e-06</td>\n",
              "    </tr>\n",
              "    <tr>\n",
              "      <th>99</th>\n",
              "      <td>4.517029e-06</td>\n",
              "      <td>9.269009e-03</td>\n",
              "      <td>2.719454e-14</td>\n",
              "      <td>4.051147e-08</td>\n",
              "      <td>4.444040e-02</td>\n",
              "      <td>7.988782e-02</td>\n",
              "      <td>5.059912e-03</td>\n",
              "      <td>1.519582e-02</td>\n",
              "      <td>3.766598e-02</td>\n",
              "      <td>2.705788e-02</td>\n",
              "      <td>...</td>\n",
              "      <td>0.0</td>\n",
              "      <td>0.0</td>\n",
              "      <td>0.0</td>\n",
              "      <td>0.0</td>\n",
              "      <td>0.0</td>\n",
              "      <td>1.836635</td>\n",
              "      <td>0.648471</td>\n",
              "      <td>2.279477</td>\n",
              "      <td>0.205636</td>\n",
              "      <td>6.821188e-06</td>\n",
              "    </tr>\n",
              "  </tbody>\n",
              "</table>\n",
              "<p>100 rows × 2583 columns</p>\n",
              "</div>\n",
              "    <div class=\"colab-df-buttons\">\n",
              "\n",
              "  <div class=\"colab-df-container\">\n",
              "    <button class=\"colab-df-convert\" onclick=\"convertToInteractive('df-373708f6-4146-4493-85e8-dd03d3cfd5a1')\"\n",
              "            title=\"Convert this dataframe to an interactive table.\"\n",
              "            style=\"display:none;\">\n",
              "\n",
              "  <svg xmlns=\"http://www.w3.org/2000/svg\" height=\"24px\" viewBox=\"0 -960 960 960\">\n",
              "    <path d=\"M120-120v-720h720v720H120Zm60-500h600v-160H180v160Zm220 220h160v-160H400v160Zm0 220h160v-160H400v160ZM180-400h160v-160H180v160Zm440 0h160v-160H620v160ZM180-180h160v-160H180v160Zm440 0h160v-160H620v160Z\"/>\n",
              "  </svg>\n",
              "    </button>\n",
              "\n",
              "  <style>\n",
              "    .colab-df-container {\n",
              "      display:flex;\n",
              "      gap: 12px;\n",
              "    }\n",
              "\n",
              "    .colab-df-convert {\n",
              "      background-color: #E8F0FE;\n",
              "      border: none;\n",
              "      border-radius: 50%;\n",
              "      cursor: pointer;\n",
              "      display: none;\n",
              "      fill: #1967D2;\n",
              "      height: 32px;\n",
              "      padding: 0 0 0 0;\n",
              "      width: 32px;\n",
              "    }\n",
              "\n",
              "    .colab-df-convert:hover {\n",
              "      background-color: #E2EBFA;\n",
              "      box-shadow: 0px 1px 2px rgba(60, 64, 67, 0.3), 0px 1px 3px 1px rgba(60, 64, 67, 0.15);\n",
              "      fill: #174EA6;\n",
              "    }\n",
              "\n",
              "    .colab-df-buttons div {\n",
              "      margin-bottom: 4px;\n",
              "    }\n",
              "\n",
              "    [theme=dark] .colab-df-convert {\n",
              "      background-color: #3B4455;\n",
              "      fill: #D2E3FC;\n",
              "    }\n",
              "\n",
              "    [theme=dark] .colab-df-convert:hover {\n",
              "      background-color: #434B5C;\n",
              "      box-shadow: 0px 1px 3px 1px rgba(0, 0, 0, 0.15);\n",
              "      filter: drop-shadow(0px 1px 2px rgba(0, 0, 0, 0.3));\n",
              "      fill: #FFFFFF;\n",
              "    }\n",
              "  </style>\n",
              "\n",
              "    <script>\n",
              "      const buttonEl =\n",
              "        document.querySelector('#df-373708f6-4146-4493-85e8-dd03d3cfd5a1 button.colab-df-convert');\n",
              "      buttonEl.style.display =\n",
              "        google.colab.kernel.accessAllowed ? 'block' : 'none';\n",
              "\n",
              "      async function convertToInteractive(key) {\n",
              "        const element = document.querySelector('#df-373708f6-4146-4493-85e8-dd03d3cfd5a1');\n",
              "        const dataTable =\n",
              "          await google.colab.kernel.invokeFunction('convertToInteractive',\n",
              "                                                    [key], {});\n",
              "        if (!dataTable) return;\n",
              "\n",
              "        const docLinkHtml = 'Like what you see? Visit the ' +\n",
              "          '<a target=\"_blank\" href=https://colab.research.google.com/notebooks/data_table.ipynb>data table notebook</a>'\n",
              "          + ' to learn more about interactive tables.';\n",
              "        element.innerHTML = '';\n",
              "        dataTable['output_type'] = 'display_data';\n",
              "        await google.colab.output.renderOutput(dataTable, element);\n",
              "        const docLink = document.createElement('div');\n",
              "        docLink.innerHTML = docLinkHtml;\n",
              "        element.appendChild(docLink);\n",
              "      }\n",
              "    </script>\n",
              "  </div>\n",
              "\n",
              "\n",
              "<div id=\"df-e2213875-d539-4018-8e84-02bb3b3350d1\">\n",
              "  <button class=\"colab-df-quickchart\" onclick=\"quickchart('df-e2213875-d539-4018-8e84-02bb3b3350d1')\"\n",
              "            title=\"Suggest charts\"\n",
              "            style=\"display:none;\">\n",
              "\n",
              "<svg xmlns=\"http://www.w3.org/2000/svg\" height=\"24px\"viewBox=\"0 0 24 24\"\n",
              "     width=\"24px\">\n",
              "    <g>\n",
              "        <path d=\"M19 3H5c-1.1 0-2 .9-2 2v14c0 1.1.9 2 2 2h14c1.1 0 2-.9 2-2V5c0-1.1-.9-2-2-2zM9 17H7v-7h2v7zm4 0h-2V7h2v10zm4 0h-2v-4h2v4z\"/>\n",
              "    </g>\n",
              "</svg>\n",
              "  </button>\n",
              "\n",
              "<style>\n",
              "  .colab-df-quickchart {\n",
              "      --bg-color: #E8F0FE;\n",
              "      --fill-color: #1967D2;\n",
              "      --hover-bg-color: #E2EBFA;\n",
              "      --hover-fill-color: #174EA6;\n",
              "      --disabled-fill-color: #AAA;\n",
              "      --disabled-bg-color: #DDD;\n",
              "  }\n",
              "\n",
              "  [theme=dark] .colab-df-quickchart {\n",
              "      --bg-color: #3B4455;\n",
              "      --fill-color: #D2E3FC;\n",
              "      --hover-bg-color: #434B5C;\n",
              "      --hover-fill-color: #FFFFFF;\n",
              "      --disabled-bg-color: #3B4455;\n",
              "      --disabled-fill-color: #666;\n",
              "  }\n",
              "\n",
              "  .colab-df-quickchart {\n",
              "    background-color: var(--bg-color);\n",
              "    border: none;\n",
              "    border-radius: 50%;\n",
              "    cursor: pointer;\n",
              "    display: none;\n",
              "    fill: var(--fill-color);\n",
              "    height: 32px;\n",
              "    padding: 0;\n",
              "    width: 32px;\n",
              "  }\n",
              "\n",
              "  .colab-df-quickchart:hover {\n",
              "    background-color: var(--hover-bg-color);\n",
              "    box-shadow: 0 1px 2px rgba(60, 64, 67, 0.3), 0 1px 3px 1px rgba(60, 64, 67, 0.15);\n",
              "    fill: var(--button-hover-fill-color);\n",
              "  }\n",
              "\n",
              "  .colab-df-quickchart-complete:disabled,\n",
              "  .colab-df-quickchart-complete:disabled:hover {\n",
              "    background-color: var(--disabled-bg-color);\n",
              "    fill: var(--disabled-fill-color);\n",
              "    box-shadow: none;\n",
              "  }\n",
              "\n",
              "  .colab-df-spinner {\n",
              "    border: 2px solid var(--fill-color);\n",
              "    border-color: transparent;\n",
              "    border-bottom-color: var(--fill-color);\n",
              "    animation:\n",
              "      spin 1s steps(1) infinite;\n",
              "  }\n",
              "\n",
              "  @keyframes spin {\n",
              "    0% {\n",
              "      border-color: transparent;\n",
              "      border-bottom-color: var(--fill-color);\n",
              "      border-left-color: var(--fill-color);\n",
              "    }\n",
              "    20% {\n",
              "      border-color: transparent;\n",
              "      border-left-color: var(--fill-color);\n",
              "      border-top-color: var(--fill-color);\n",
              "    }\n",
              "    30% {\n",
              "      border-color: transparent;\n",
              "      border-left-color: var(--fill-color);\n",
              "      border-top-color: var(--fill-color);\n",
              "      border-right-color: var(--fill-color);\n",
              "    }\n",
              "    40% {\n",
              "      border-color: transparent;\n",
              "      border-right-color: var(--fill-color);\n",
              "      border-top-color: var(--fill-color);\n",
              "    }\n",
              "    60% {\n",
              "      border-color: transparent;\n",
              "      border-right-color: var(--fill-color);\n",
              "    }\n",
              "    80% {\n",
              "      border-color: transparent;\n",
              "      border-right-color: var(--fill-color);\n",
              "      border-bottom-color: var(--fill-color);\n",
              "    }\n",
              "    90% {\n",
              "      border-color: transparent;\n",
              "      border-bottom-color: var(--fill-color);\n",
              "    }\n",
              "  }\n",
              "</style>\n",
              "\n",
              "  <script>\n",
              "    async function quickchart(key) {\n",
              "      const quickchartButtonEl =\n",
              "        document.querySelector('#' + key + ' button');\n",
              "      quickchartButtonEl.disabled = true;  // To prevent multiple clicks.\n",
              "      quickchartButtonEl.classList.add('colab-df-spinner');\n",
              "      try {\n",
              "        const charts = await google.colab.kernel.invokeFunction(\n",
              "            'suggestCharts', [key], {});\n",
              "      } catch (error) {\n",
              "        console.error('Error during call to suggestCharts:', error);\n",
              "      }\n",
              "      quickchartButtonEl.classList.remove('colab-df-spinner');\n",
              "      quickchartButtonEl.classList.add('colab-df-quickchart-complete');\n",
              "    }\n",
              "    (() => {\n",
              "      let quickchartButtonEl =\n",
              "        document.querySelector('#df-e2213875-d539-4018-8e84-02bb3b3350d1 button');\n",
              "      quickchartButtonEl.style.display =\n",
              "        google.colab.kernel.accessAllowed ? 'block' : 'none';\n",
              "    })();\n",
              "  </script>\n",
              "</div>\n",
              "\n",
              "  <div id=\"id_58b20726-2440-4e39-bab8-c9629a77dff7\">\n",
              "    <style>\n",
              "      .colab-df-generate {\n",
              "        background-color: #E8F0FE;\n",
              "        border: none;\n",
              "        border-radius: 50%;\n",
              "        cursor: pointer;\n",
              "        display: none;\n",
              "        fill: #1967D2;\n",
              "        height: 32px;\n",
              "        padding: 0 0 0 0;\n",
              "        width: 32px;\n",
              "      }\n",
              "\n",
              "      .colab-df-generate:hover {\n",
              "        background-color: #E2EBFA;\n",
              "        box-shadow: 0px 1px 2px rgba(60, 64, 67, 0.3), 0px 1px 3px 1px rgba(60, 64, 67, 0.15);\n",
              "        fill: #174EA6;\n",
              "      }\n",
              "\n",
              "      [theme=dark] .colab-df-generate {\n",
              "        background-color: #3B4455;\n",
              "        fill: #D2E3FC;\n",
              "      }\n",
              "\n",
              "      [theme=dark] .colab-df-generate:hover {\n",
              "        background-color: #434B5C;\n",
              "        box-shadow: 0px 1px 3px 1px rgba(0, 0, 0, 0.15);\n",
              "        filter: drop-shadow(0px 1px 2px rgba(0, 0, 0, 0.3));\n",
              "        fill: #FFFFFF;\n",
              "      }\n",
              "    </style>\n",
              "    <button class=\"colab-df-generate\" onclick=\"generateWithVariable('s')\"\n",
              "            title=\"Generate code using this dataframe.\"\n",
              "            style=\"display:none;\">\n",
              "\n",
              "  <svg xmlns=\"http://www.w3.org/2000/svg\" height=\"24px\"viewBox=\"0 0 24 24\"\n",
              "       width=\"24px\">\n",
              "    <path d=\"M7,19H8.4L18.45,9,17,7.55,7,17.6ZM5,21V16.75L18.45,3.32a2,2,0,0,1,2.83,0l1.4,1.43a1.91,1.91,0,0,1,.58,1.4,1.91,1.91,0,0,1-.58,1.4L9.25,21ZM18.45,9,17,7.55Zm-12,3A5.31,5.31,0,0,0,4.9,8.1,5.31,5.31,0,0,0,1,6.5,5.31,5.31,0,0,0,4.9,4.9,5.31,5.31,0,0,0,6.5,1,5.31,5.31,0,0,0,8.1,4.9,5.31,5.31,0,0,0,12,6.5,5.46,5.46,0,0,0,6.5,12Z\"/>\n",
              "  </svg>\n",
              "    </button>\n",
              "    <script>\n",
              "      (() => {\n",
              "      const buttonEl =\n",
              "        document.querySelector('#id_58b20726-2440-4e39-bab8-c9629a77dff7 button.colab-df-generate');\n",
              "      buttonEl.style.display =\n",
              "        google.colab.kernel.accessAllowed ? 'block' : 'none';\n",
              "\n",
              "      buttonEl.onclick = () => {\n",
              "        google.colab.notebook.generateWithVariable('s');\n",
              "      }\n",
              "      })();\n",
              "    </script>\n",
              "  </div>\n",
              "\n",
              "    </div>\n",
              "  </div>\n"
            ],
            "application/vnd.google.colaboratory.intrinsic+json": {
              "type": "dataframe",
              "variable_name": "s"
            }
          },
          "metadata": {},
          "execution_count": 34
        }
      ]
    },
    {
      "cell_type": "code",
      "source": [
        "model = cobra.io.load_model(\"iJO1366\")\n",
        "fva_results = cobra.flux_analysis.flux_variability_analysis(model)"
      ],
      "metadata": {
        "id": "UghGQOd1lqfN"
      },
      "execution_count": 70,
      "outputs": []
    },
    {
      "cell_type": "code",
      "source": [
        "import matplotlib.pyplot as plt\n",
        "import pandas as pd\n",
        "flux_prob_data = s\n",
        "\n",
        "def plot_flux_histogram(reaction_id):\n",
        "\n",
        "    flux_distribution = flux_prob_data[reaction_id]\n",
        "    fva_min = fva_results.loc[reaction_id, 'minimum']\n",
        "    fva_max = fva_results.loc[reaction_id, 'maximum']\n",
        "\n",
        "    plt.hist(flux_distribution, bins=30, alpha=0.7, color='blue')\n",
        "\n",
        "    plt.axvline(fva_min, color='red', linestyle='--', linewidth=1, label=f'FVA Min ({fva_min:.2f})')\n",
        "    plt.axvline(fva_max, color='red', linestyle='--', linewidth=1, label=f'FVA Max ({fva_max:.2f})')\n",
        "\n",
        "    plt.plot(fva_min, 0, 'ro', markersize=8, label='Min Flux')\n",
        "    plt.plot(fva_max, 0, 'r*', markersize=8, label='Max Flux')\n",
        "\n",
        "    plt.xlabel('Flux Value')\n",
        "    plt.ylabel('Frequency')\n",
        "    plt.title(f'Flux Distribution for {reaction_id}')\n",
        "    plt.legend()\n",
        "    plt.show()"
      ],
      "metadata": {
        "id": "gKziLTVOm5FE"
      },
      "execution_count": 87,
      "outputs": []
    },
    {
      "cell_type": "code",
      "source": [
        "plot_flux_histogram('ACONTa')\n",
        "plot_flux_histogram('ACONTb')"
      ],
      "metadata": {
        "colab": {
          "base_uri": "https://localhost:8080/",
          "height": 927
        },
        "id": "gkAUrZDPpY8f",
        "outputId": "98158b20-ade4-4257-e33a-306d6cc3c573"
      },
      "execution_count": 88,
      "outputs": [
        {
          "output_type": "display_data",
          "data": {
            "text/plain": [
              "<Figure size 640x480 with 1 Axes>"
            ],
            "image/png": "[encoded data removed]"
          },
          "metadata": {}
        },
        {
          "output_type": "display_data",
          "data": {
            "text/plain": [
              "<Figure size 640x480 with 1 Axes>"
            ],
            "image/png": "[encoded data removed]"
          },
          "metadata": {}
        }
      ]
    },
    {
      "cell_type": "markdown",
      "source": [
        "**Question 2: What do you notice about the two plots for Aconitase A and Acontiase B?**"
      ],
      "metadata": {
        "id": "cc_6u0onsCR3"
      }
    },
    {
      "cell_type": "markdown",
      "source": [
        "Your answer"
      ],
      "metadata": {
        "id": "DctyxVBXvEsh"
      }
    },
    {
      "cell_type": "code",
      "source": [
        "plot_flux_histogram('ADK1')\n",
        "plot_flux_histogram('ACALD')"
      ],
      "metadata": {
        "colab": {
          "base_uri": "https://localhost:8080/",
          "height": 927
        },
        "id": "G-eIn0IVsH1T",
        "outputId": "aa956806-4249-4bee-86d9-40dd3077bd84"
      },
      "execution_count": 89,
      "outputs": [
        {
          "output_type": "display_data",
          "data": {
            "text/plain": [
              "<Figure size 640x480 with 1 Axes>"
            ],
            "image/png": "[encoded data removed]"
          },
          "metadata": {}
        },
        {
          "output_type": "display_data",
          "data": {
            "text/plain": [
              "<Figure size 640x480 with 1 Axes>"
            ],
            "image/png": "[encoded data removed]"
          },
          "metadata": {}
        }
      ]
    },
    {
      "cell_type": "markdown",
      "source": [
        "We notice that there is no relation between adenylate kinase (ADK1) and acetaldehyde dehydrogenase (ACALD). While this is not interesting, what's interesting are the \"correlated reactions\". We want to know all the reactions that are perfectly correlated."
      ],
      "metadata": {
        "id": "cailLPX_siqv"
      }
    },
    {
      "cell_type": "code",
      "source": [
        "def plot_flux_correlation(reaction_id1, reaction_id2, flux_data):\n",
        "    flux1 = flux_data[reaction_id1]\n",
        "    flux2 = flux_data[reaction_id2]\n",
        "\n",
        "    # Plot the scatter plot\n",
        "    plt.figure(figsize=(6, 6))\n",
        "    plt.scatter(flux1, flux2, alpha=0.5, color='blue', s=10)\n",
        "\n",
        "    # Plot formatting\n",
        "    plt.xlabel(f'Flux of {reaction_id1}')\n",
        "    plt.ylabel(f'Flux of {reaction_id2}')\n",
        "    plt.title(f'Flux Correlation between {reaction_id1} and {reaction_id2}')\n",
        "    plt.grid(True)\n",
        "    plt.show()"
      ],
      "metadata": {
        "id": "XoEMUS2Ws4pO"
      },
      "execution_count": 90,
      "outputs": []
    },
    {
      "cell_type": "code",
      "source": [
        "plot_flux_correlation('ACONTa', 'ACONTb', flux_prob_data)"
      ],
      "metadata": {
        "colab": {
          "base_uri": "https://localhost:8080/",
          "height": 564
        },
        "id": "kcRb_dFMto_3",
        "outputId": "3df66a61-ad72-4c71-9acb-01776bb69364"
      },
      "execution_count": 91,
      "outputs": [
        {
          "output_type": "display_data",
          "data": {
            "text/plain": [
              "<Figure size 600x600 with 1 Axes>"
            ],
            "image/png": "[encoded data removed]"
          },
          "metadata": {}
        }
      ]
    },
    {
      "cell_type": "code",
      "source": [
        "plot_flux_correlation('ADK1', 'ACALD', flux_prob_data)"
      ],
      "metadata": {
        "colab": {
          "base_uri": "https://localhost:8080/",
          "height": 564
        },
        "id": "rQsmPp4Bt3n3",
        "outputId": "03f13956-8d9f-4c7d-b1d2-24436963fe82"
      },
      "execution_count": 93,
      "outputs": [
        {
          "output_type": "display_data",
          "data": {
            "text/plain": [
              "<Figure size 600x600 with 1 Axes>"
            ],
            "image/png": "[encoded data removed]"
          },
          "metadata": {}
        }
      ]
    },
    {
      "cell_type": "markdown",
      "source": [
        "**Question 3: With a threshold of Pearson correlation coefficient of 0.7, what is the ratio of the high-correlated reaction pairs to the low-correlated reaction pairs?**\n",
        "Hint: you should calculate the Pearson coefficient for all the reaction pairs, separate those that are >= 0.7 from those that are < 0.7, count each and check their ratio.\n",
        "\n",
        "**Question 4: What does that ratio tell you about the organism's metabolic flexibility and independence of pathways?**"
      ],
      "metadata": {
        "id": "4ubMtj9OucUP"
      }
    },
    {
      "cell_type": "markdown",
      "source": [
        "Your answers"
      ],
      "metadata": {
        "id": "kRAUHH5jzUG8"
      }
    },
    {
      "cell_type": "code",
      "source": [],
      "metadata": {
        "id": "Al6IZvh4vCgB"
      },
      "execution_count": null,
      "outputs": []
    }
  ]
}