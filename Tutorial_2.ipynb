{
  "nbformat": 4,
  "nbformat_minor": 0,
  "metadata": {
    "colab": {
      "provenance": []
    },
    "kernelspec": {
      "name": "python3",
      "display_name": "Python 3"
    },
    "language_info": {
      "name": "python"
    }
  },
  "cells": [
    {
      "cell_type": "markdown",
      "source": [
        "**Install and import cobra**"
      ],
      "metadata": {
        "id": "NpRS8axV6vrx"
      }
    },
    {
      "cell_type": "code",
      "execution_count": 1,
      "metadata": {
        "id": "HvkYxdNcggS5",
        "collapsed": true,
        "colab": {
          "base_uri": "https://localhost:8080/"
        },
        "outputId": "a3619afb-a507-4d6c-d942-664f429daa71"
      },
      "outputs": [
        {
          "output_type": "stream",
          "name": "stdout",
          "text": [
            "Collecting cobra\n",
            "  Downloading cobra-0.29.1-py2.py3-none-any.whl.metadata (9.3 kB)\n",
            "Collecting appdirs~=1.4 (from cobra)\n",
            "  Downloading appdirs-1.4.4-py2.py3-none-any.whl.metadata (9.0 kB)\n",
            "Collecting depinfo~=2.2 (from cobra)\n",
            "  Downloading depinfo-2.2.0-py3-none-any.whl.metadata (3.8 kB)\n",
            "Collecting diskcache~=5.0 (from cobra)\n",
            "  Downloading diskcache-5.6.3-py3-none-any.whl.metadata (20 kB)\n",
            "Requirement already satisfied: future in /usr/local/lib/python3.10/dist-packages (from cobra) (1.0.0)\n",
            "Collecting httpx~=0.24 (from cobra)\n",
            "  Downloading httpx-0.27.2-py3-none-any.whl.metadata (7.1 kB)\n",
            "Requirement already satisfied: importlib-resources in /usr/local/lib/python3.10/dist-packages (from cobra) (6.4.5)\n",
            "Requirement already satisfied: numpy>=1.13 in /usr/local/lib/python3.10/dist-packages (from cobra) (1.26.4)\n",
            "Collecting optlang~=1.8 (from cobra)\n",
            "  Downloading optlang-1.8.2-py2.py3-none-any.whl.metadata (8.1 kB)\n",
            "Requirement already satisfied: pandas<3.0,>=1.0 in /usr/local/lib/python3.10/dist-packages (from cobra) (2.2.2)\n",
            "Requirement already satisfied: pydantic>=1.6 in /usr/local/lib/python3.10/dist-packages (from cobra) (2.9.2)\n",
            "Collecting python-libsbml~=5.19 (from cobra)\n",
            "  Downloading python_libsbml-5.20.4-cp310-cp310-manylinux_2_17_x86_64.manylinux2014_x86_64.whl.metadata (532 bytes)\n",
            "Requirement already satisfied: rich>=8.0 in /usr/local/lib/python3.10/dist-packages (from cobra) (13.8.1)\n",
            "Collecting ruamel.yaml~=0.16 (from cobra)\n",
            "  Downloading ruamel.yaml-0.18.6-py3-none-any.whl.metadata (23 kB)\n",
            "Collecting swiglpk (from cobra)\n",
            "  Downloading swiglpk-5.0.10-cp310-cp310-manylinux_2_17_x86_64.manylinux2014_x86_64.whl.metadata (5.5 kB)\n",
            "Requirement already satisfied: anyio in /usr/local/lib/python3.10/dist-packages (from httpx~=0.24->cobra) (3.7.1)\n",
            "Requirement already satisfied: certifi in /usr/local/lib/python3.10/dist-packages (from httpx~=0.24->cobra) (2024.8.30)\n",
            "Collecting httpcore==1.* (from httpx~=0.24->cobra)\n",
            "  Downloading httpcore-1.0.6-py3-none-any.whl.metadata (21 kB)\n",
            "Requirement already satisfied: idna in /usr/local/lib/python3.10/dist-packages (from httpx~=0.24->cobra) (3.10)\n",
            "Requirement already satisfied: sniffio in /usr/local/lib/python3.10/dist-packages (from httpx~=0.24->cobra) (1.3.1)\n",
            "Collecting h11<0.15,>=0.13 (from httpcore==1.*->httpx~=0.24->cobra)\n",
            "  Downloading h11-0.14.0-py3-none-any.whl.metadata (8.2 kB)\n",
            "Requirement already satisfied: sympy>=1.12.0 in /usr/local/lib/python3.10/dist-packages (from optlang~=1.8->cobra) (1.13.3)\n",
            "Requirement already satisfied: python-dateutil>=2.8.2 in /usr/local/lib/python3.10/dist-packages (from pandas<3.0,>=1.0->cobra) (2.8.2)\n",
            "Requirement already satisfied: pytz>=2020.1 in /usr/local/lib/python3.10/dist-packages (from pandas<3.0,>=1.0->cobra) (2024.2)\n",
            "Requirement already satisfied: tzdata>=2022.7 in /usr/local/lib/python3.10/dist-packages (from pandas<3.0,>=1.0->cobra) (2024.2)\n",
            "Requirement already satisfied: annotated-types>=0.6.0 in /usr/local/lib/python3.10/dist-packages (from pydantic>=1.6->cobra) (0.7.0)\n",
            "Requirement already satisfied: pydantic-core==2.23.4 in /usr/local/lib/python3.10/dist-packages (from pydantic>=1.6->cobra) (2.23.4)\n",
            "Requirement already satisfied: typing-extensions>=4.6.1 in /usr/local/lib/python3.10/dist-packages (from pydantic>=1.6->cobra) (4.12.2)\n",
            "Requirement already satisfied: markdown-it-py>=2.2.0 in /usr/local/lib/python3.10/dist-packages (from rich>=8.0->cobra) (3.0.0)\n",
            "Requirement already satisfied: pygments<3.0.0,>=2.13.0 in /usr/local/lib/python3.10/dist-packages (from rich>=8.0->cobra) (2.18.0)\n",
            "Collecting ruamel.yaml.clib>=0.2.7 (from ruamel.yaml~=0.16->cobra)\n",
            "  Downloading ruamel.yaml.clib-0.2.8-cp310-cp310-manylinux_2_17_x86_64.manylinux2014_x86_64.manylinux_2_24_x86_64.whl.metadata (2.2 kB)\n",
            "Requirement already satisfied: mdurl~=0.1 in /usr/local/lib/python3.10/dist-packages (from markdown-it-py>=2.2.0->rich>=8.0->cobra) (0.1.2)\n",
            "Requirement already satisfied: six>=1.5 in /usr/local/lib/python3.10/dist-packages (from python-dateutil>=2.8.2->pandas<3.0,>=1.0->cobra) (1.16.0)\n",
            "Requirement already satisfied: mpmath<1.4,>=1.1.0 in /usr/local/lib/python3.10/dist-packages (from sympy>=1.12.0->optlang~=1.8->cobra) (1.3.0)\n",
            "Requirement already satisfied: exceptiongroup in /usr/local/lib/python3.10/dist-packages (from anyio->httpx~=0.24->cobra) (1.2.2)\n",
            "Downloading cobra-0.29.1-py2.py3-none-any.whl (1.2 MB)\n",
            "\u001b[2K   \u001b[90m━━━━━━━━━━━━━━━━━━━━━━━━━━━━━━━━━━━━━━━━\u001b[0m \u001b[32m1.2/1.2 MB\u001b[0m \u001b[31m14.6 MB/s\u001b[0m eta \u001b[36m0:00:00\u001b[0m\n",
            "\u001b[?25hDownloading appdirs-1.4.4-py2.py3-none-any.whl (9.6 kB)\n",
            "Downloading depinfo-2.2.0-py3-none-any.whl (24 kB)\n",
            "Downloading diskcache-5.6.3-py3-none-any.whl (45 kB)\n",
            "\u001b[2K   \u001b[90m━━━━━━━━━━━━━━━━━━━━━━━━━━━━━━━━━━━━━━━━\u001b[0m \u001b[32m45.5/45.5 kB\u001b[0m \u001b[31m2.2 MB/s\u001b[0m eta \u001b[36m0:00:00\u001b[0m\n",
            "\u001b[?25hDownloading httpx-0.27.2-py3-none-any.whl (76 kB)\n",
            "\u001b[2K   \u001b[90m━━━━━━━━━━━━━━━━━━━━━━━━━━━━━━━━━━━━━━━━\u001b[0m \u001b[32m76.4/76.4 kB\u001b[0m \u001b[31m4.4 MB/s\u001b[0m eta \u001b[36m0:00:00\u001b[0m\n",
            "\u001b[?25hDownloading httpcore-1.0.6-py3-none-any.whl (78 kB)\n",
            "\u001b[2K   \u001b[90m━━━━━━━━━━━━━━━━━━━━━━━━━━━━━━━━━━━━━━━━\u001b[0m \u001b[32m78.0/78.0 kB\u001b[0m \u001b[31m4.1 MB/s\u001b[0m eta \u001b[36m0:00:00\u001b[0m\n",
            "\u001b[?25hDownloading optlang-1.8.2-py2.py3-none-any.whl (141 kB)\n",
            "\u001b[2K   \u001b[90m━━━━━━━━━━━━━━━━━━━━━━━━━━━━━━━━━━━━━━━━\u001b[0m \u001b[32m141.8/141.8 kB\u001b[0m \u001b[31m5.4 MB/s\u001b[0m eta \u001b[36m0:00:00\u001b[0m\n",
            "\u001b[?25hDownloading python_libsbml-5.20.4-cp310-cp310-manylinux_2_17_x86_64.manylinux2014_x86_64.whl (8.0 MB)\n",
            "\u001b[2K   \u001b[90m━━━━━━━━━━━━━━━━━━━━━━━━━━━━━━━━━━━━━━━━\u001b[0m \u001b[32m8.0/8.0 MB\u001b[0m \u001b[31m48.1 MB/s\u001b[0m eta \u001b[36m0:00:00\u001b[0m\n",
            "\u001b[?25hDownloading ruamel.yaml-0.18.6-py3-none-any.whl (117 kB)\n",
            "\u001b[2K   \u001b[90m━━━━━━━━━━━━━━━━━━━━━━━━━━━━━━━━━━━━━━━━\u001b[0m \u001b[32m117.8/117.8 kB\u001b[0m \u001b[31m6.6 MB/s\u001b[0m eta \u001b[36m0:00:00\u001b[0m\n",
            "\u001b[?25hDownloading swiglpk-5.0.10-cp310-cp310-manylinux_2_17_x86_64.manylinux2014_x86_64.whl (2.3 MB)\n",
            "\u001b[2K   \u001b[90m━━━━━━━━━━━━━━━━━━━━━━━━━━━━━━━━━━━━━━━━\u001b[0m \u001b[32m2.3/2.3 MB\u001b[0m \u001b[31m43.2 MB/s\u001b[0m eta \u001b[36m0:00:00\u001b[0m\n",
            "\u001b[?25hDownloading ruamel.yaml.clib-0.2.8-cp310-cp310-manylinux_2_17_x86_64.manylinux2014_x86_64.manylinux_2_24_x86_64.whl (526 kB)\n",
            "\u001b[2K   \u001b[90m━━━━━━━━━━━━━━━━━━━━━━━━━━━━━━━━━━━━━━━━\u001b[0m \u001b[32m526.7/526.7 kB\u001b[0m \u001b[31m19.5 MB/s\u001b[0m eta \u001b[36m0:00:00\u001b[0m\n",
            "\u001b[?25hDownloading h11-0.14.0-py3-none-any.whl (58 kB)\n",
            "\u001b[2K   \u001b[90m━━━━━━━━━━━━━━━━━━━━━━━━━━━━━━━━━━━━━━━━\u001b[0m \u001b[32m58.3/58.3 kB\u001b[0m \u001b[31m2.9 MB/s\u001b[0m eta \u001b[36m0:00:00\u001b[0m\n",
            "\u001b[?25hInstalling collected packages: swiglpk, python-libsbml, appdirs, ruamel.yaml.clib, h11, diskcache, depinfo, ruamel.yaml, optlang, httpcore, httpx, cobra\n",
            "Successfully installed appdirs-1.4.4 cobra-0.29.1 depinfo-2.2.0 diskcache-5.6.3 h11-0.14.0 httpcore-1.0.6 httpx-0.27.2 optlang-1.8.2 python-libsbml-5.20.4 ruamel.yaml-0.18.6 ruamel.yaml.clib-0.2.8 swiglpk-5.0.10\n"
          ]
        }
      ],
      "source": [
        "!pip install cobra\n",
        "import cobra"
      ]
    },
    {
      "cell_type": "markdown",
      "source": [
        "**Load the SBML file (XML format)**"
      ],
      "metadata": {
        "id": "pVz4AzdE6rF5"
      }
    },
    {
      "cell_type": "code",
      "source": [
        "model = cobra.io.read_sbml_model(\"iJO1366.xml\")"
      ],
      "metadata": {
        "id": "wNp3Aen0hD2A"
      },
      "execution_count": 2,
      "outputs": []
    },
    {
      "cell_type": "markdown",
      "source": [
        "**To know the number of metabolites, reactions, genes, compartments, and the objective function.**"
      ],
      "metadata": {
        "id": "Y7A0Ah8J60LP"
      }
    },
    {
      "cell_type": "code",
      "source": [
        "model"
      ],
      "metadata": {
        "colab": {
          "base_uri": "https://localhost:8080/",
          "height": 185
        },
        "id": "KbfVqw_Tyaa1",
        "outputId": "251ea062-0d02-49f0-a0a2-f5e92ec0f05e"
      },
      "execution_count": null,
      "outputs": [
        {
          "output_type": "execute_result",
          "data": {
            "text/plain": [
              "<Model iJO1366 at 0x7fc839063130>"
            ],
            "text/html": [
              "\n",
              "        <table>\n",
              "            <tr>\n",
              "                <td><strong>Name</strong></td>\n",
              "                <td>iJO1366</td>\n",
              "            </tr><tr>\n",
              "                <td><strong>Memory address</strong></td>\n",
              "                <td>7fc839063130</td>\n",
              "            </tr><tr>\n",
              "                <td><strong>Number of metabolites</strong></td>\n",
              "                <td>1805</td>\n",
              "            </tr><tr>\n",
              "                <td><strong>Number of reactions</strong></td>\n",
              "                <td>2583</td>\n",
              "            </tr><tr>\n",
              "                <td><strong>Number of genes</strong></td>\n",
              "                <td>1367</td>\n",
              "            </tr><tr>\n",
              "                <td><strong>Number of groups</strong></td>\n",
              "                <td>0</td>\n",
              "            </tr><tr>\n",
              "                <td><strong>Objective expression</strong></td>\n",
              "                <td>1.0*BIOMASS_Ec_iJO1366_core_53p95M - 1.0*BIOMASS_Ec_iJO1366_core_53p95M_reverse_5c8b1</td>\n",
              "            </tr><tr>\n",
              "                <td><strong>Compartments</strong></td>\n",
              "                <td>cytosol, extracellular space, periplasm</td>\n",
              "            </tr>\n",
              "          </table>"
            ]
          },
          "metadata": {},
          "execution_count": 3
        }
      ]
    },
    {
      "cell_type": "markdown",
      "source": [
        "**What the model takes and what it secretes**"
      ],
      "metadata": {
        "id": "Ay0SrV7J63U4"
      }
    },
    {
      "cell_type": "code",
      "source": [
        "model.summary()"
      ],
      "metadata": {
        "colab": {
          "base_uri": "https://localhost:8080/",
          "height": 974
        },
        "id": "qG-AKWJ5yEPE",
        "outputId": "41e7927b-1283-440f-c909-03e824d1f513"
      },
      "execution_count": null,
      "outputs": [
        {
          "output_type": "execute_result",
          "data": {
            "text/plain": [
              "<cobra.summary.model_summary.ModelSummary at 0x7fc836ba61a0>"
            ],
            "text/html": [
              "<h3>Objective</h3><p>1.0 BIOMASS_Ec_iJO1366_core_53p95M = 0.9823718127269743</p><h4>Uptake</h4><table border=\"1\" class=\"dataframe\">\n",
              "  <thead>\n",
              "    <tr style=\"text-align: right;\">\n",
              "      <th>Metabolite</th>\n",
              "      <th>Reaction</th>\n",
              "      <th>Flux</th>\n",
              "      <th>C-Number</th>\n",
              "      <th>C-Flux</th>\n",
              "    </tr>\n",
              "  </thead>\n",
              "  <tbody>\n",
              "    <tr>\n",
              "      <td>ca2_e</td>\n",
              "      <td>EX_ca2_e</td>\n",
              "      <td>0.005113</td>\n",
              "      <td>0</td>\n",
              "      <td>0.00%</td>\n",
              "    </tr>\n",
              "    <tr>\n",
              "      <td>cl_e</td>\n",
              "      <td>EX_cl_e</td>\n",
              "      <td>0.005113</td>\n",
              "      <td>0</td>\n",
              "      <td>0.00%</td>\n",
              "    </tr>\n",
              "    <tr>\n",
              "      <td>cobalt2_e</td>\n",
              "      <td>EX_cobalt2_e</td>\n",
              "      <td>2.456E-05</td>\n",
              "      <td>0</td>\n",
              "      <td>0.00%</td>\n",
              "    </tr>\n",
              "    <tr>\n",
              "      <td>cu2_e</td>\n",
              "      <td>EX_cu2_e</td>\n",
              "      <td>0.0006965</td>\n",
              "      <td>0</td>\n",
              "      <td>0.00%</td>\n",
              "    </tr>\n",
              "    <tr>\n",
              "      <td>fe2_e</td>\n",
              "      <td>EX_fe2_e</td>\n",
              "      <td>0.01578</td>\n",
              "      <td>0</td>\n",
              "      <td>0.00%</td>\n",
              "    </tr>\n",
              "    <tr>\n",
              "      <td>glc__D_e</td>\n",
              "      <td>EX_glc__D_e</td>\n",
              "      <td>10</td>\n",
              "      <td>6</td>\n",
              "      <td>100.00%</td>\n",
              "    </tr>\n",
              "    <tr>\n",
              "      <td>k_e</td>\n",
              "      <td>EX_k_e</td>\n",
              "      <td>0.1918</td>\n",
              "      <td>0</td>\n",
              "      <td>0.00%</td>\n",
              "    </tr>\n",
              "    <tr>\n",
              "      <td>mg2_e</td>\n",
              "      <td>EX_mg2_e</td>\n",
              "      <td>0.008522</td>\n",
              "      <td>0</td>\n",
              "      <td>0.00%</td>\n",
              "    </tr>\n",
              "    <tr>\n",
              "      <td>mn2_e</td>\n",
              "      <td>EX_mn2_e</td>\n",
              "      <td>0.0006788</td>\n",
              "      <td>0</td>\n",
              "      <td>0.00%</td>\n",
              "    </tr>\n",
              "    <tr>\n",
              "      <td>mobd_e</td>\n",
              "      <td>EX_mobd_e</td>\n",
              "      <td>0.0001267</td>\n",
              "      <td>0</td>\n",
              "      <td>0.00%</td>\n",
              "    </tr>\n",
              "    <tr>\n",
              "      <td>nh4_e</td>\n",
              "      <td>EX_nh4_e</td>\n",
              "      <td>10.61</td>\n",
              "      <td>0</td>\n",
              "      <td>0.00%</td>\n",
              "    </tr>\n",
              "    <tr>\n",
              "      <td>ni2_e</td>\n",
              "      <td>EX_ni2_e</td>\n",
              "      <td>0.0003173</td>\n",
              "      <td>0</td>\n",
              "      <td>0.00%</td>\n",
              "    </tr>\n",
              "    <tr>\n",
              "      <td>o2_e</td>\n",
              "      <td>EX_o2_e</td>\n",
              "      <td>17.58</td>\n",
              "      <td>0</td>\n",
              "      <td>0.00%</td>\n",
              "    </tr>\n",
              "    <tr>\n",
              "      <td>pi_e</td>\n",
              "      <td>EX_pi_e</td>\n",
              "      <td>0.9476</td>\n",
              "      <td>0</td>\n",
              "      <td>0.00%</td>\n",
              "    </tr>\n",
              "    <tr>\n",
              "      <td>so4_e</td>\n",
              "      <td>EX_so4_e</td>\n",
              "      <td>0.2478</td>\n",
              "      <td>0</td>\n",
              "      <td>0.00%</td>\n",
              "    </tr>\n",
              "    <tr>\n",
              "      <td>zn2_e</td>\n",
              "      <td>EX_zn2_e</td>\n",
              "      <td>0.000335</td>\n",
              "      <td>0</td>\n",
              "      <td>0.00%</td>\n",
              "    </tr>\n",
              "  </tbody>\n",
              "</table><h4>Secretion</h4><table border=\"1\" class=\"dataframe\">\n",
              "  <thead>\n",
              "    <tr style=\"text-align: right;\">\n",
              "      <th>Metabolite</th>\n",
              "      <th>Reaction</th>\n",
              "      <th>Flux</th>\n",
              "      <th>C-Number</th>\n",
              "      <th>C-Flux</th>\n",
              "    </tr>\n",
              "  </thead>\n",
              "  <tbody>\n",
              "    <tr>\n",
              "      <td>4crsol_c</td>\n",
              "      <td>DM_4crsol_c</td>\n",
              "      <td>-0.0002191</td>\n",
              "      <td>7</td>\n",
              "      <td>0.01%</td>\n",
              "    </tr>\n",
              "    <tr>\n",
              "      <td>5drib_c</td>\n",
              "      <td>DM_5drib_c</td>\n",
              "      <td>-0.000221</td>\n",
              "      <td>5</td>\n",
              "      <td>0.01%</td>\n",
              "    </tr>\n",
              "    <tr>\n",
              "      <td>amob_c</td>\n",
              "      <td>DM_amob_c</td>\n",
              "      <td>-1.965E-06</td>\n",
              "      <td>15</td>\n",
              "      <td>0.00%</td>\n",
              "    </tr>\n",
              "    <tr>\n",
              "      <td>mththf_c</td>\n",
              "      <td>DM_mththf_c</td>\n",
              "      <td>-0.0004401</td>\n",
              "      <td>5</td>\n",
              "      <td>0.01%</td>\n",
              "    </tr>\n",
              "    <tr>\n",
              "      <td>co2_e</td>\n",
              "      <td>EX_co2_e</td>\n",
              "      <td>-19.68</td>\n",
              "      <td>1</td>\n",
              "      <td>99.98%</td>\n",
              "    </tr>\n",
              "    <tr>\n",
              "      <td>h2o_e</td>\n",
              "      <td>EX_h2o_e</td>\n",
              "      <td>-45.62</td>\n",
              "      <td>0</td>\n",
              "      <td>0.00%</td>\n",
              "    </tr>\n",
              "    <tr>\n",
              "      <td>h_e</td>\n",
              "      <td>EX_h_e</td>\n",
              "      <td>-9.026</td>\n",
              "      <td>0</td>\n",
              "      <td>0.00%</td>\n",
              "    </tr>\n",
              "    <tr>\n",
              "      <td>meoh_e</td>\n",
              "      <td>EX_meoh_e</td>\n",
              "      <td>-1.965E-06</td>\n",
              "      <td>1</td>\n",
              "      <td>0.00%</td>\n",
              "    </tr>\n",
              "  </tbody>\n",
              "</table>"
            ]
          },
          "metadata": {},
          "execution_count": 4
        }
      ]
    },
    {
      "cell_type": "markdown",
      "source": [
        "**You can access any reaction directly by its ID and get a summary of it.\n",
        "This is the reaction glucose 6-phosphate isomerase, which interconverts glucose 6-phosphate and fructose 6-phosphate**"
      ],
      "metadata": {
        "id": "iyKcy4ra66Vn"
      }
    },
    {
      "cell_type": "code",
      "source": [
        "pgi = model.reactions.PGI # either this\n",
        "pgi = model.reactions.get_by_id(\"PGI\") # or this, both produce the same output"
      ],
      "metadata": {
        "id": "89FLckgSy2Q8"
      },
      "execution_count": null,
      "outputs": []
    },
    {
      "cell_type": "markdown",
      "source": [
        "**once u have a reaction, you can access its name, affected metabolites, bounds, reversibility, and the reaction itself**"
      ],
      "metadata": {
        "id": "PE67PiuP684w"
      }
    },
    {
      "cell_type": "code",
      "source": [
        "print(pgi.name)\n",
        "print(pgi.reaction)\n",
        "print(pgi.metabolites)\n",
        "print(pgi.lower_bound, \"< pgi <\", pgi.upper_bound)\n",
        "print(pgi.reversibility)"
      ],
      "metadata": {
        "colab": {
          "base_uri": "https://localhost:8080/"
        },
        "id": "E-hKAIHSzfGs",
        "outputId": "6f07462e-745e-4cab-8874-5177875e7a6d"
      },
      "execution_count": null,
      "outputs": [
        {
          "output_type": "stream",
          "name": "stdout",
          "text": [
            "Glucose-6-phosphate isomerase\n",
            "g6p_c <=> f6p_c\n",
            "{<Metabolite g6p_c at 0x7fc838ed0790>: -1.0, <Metabolite f6p_c at 0x7fc8390f4e20>: 1.0}\n",
            "-1000.0 < pgi < 1000.0\n",
            "True\n"
          ]
        }
      ]
    },
    {
      "cell_type": "markdown",
      "source": [
        "**A function to print out the most relevant information about a gene in a cobra model.**\n"
      ],
      "metadata": {
        "id": "TEFIEY9w6_SH"
      }
    },
    {
      "cell_type": "code",
      "source": [
        "def print_gene_info(gene):\n",
        "    print(\"cobra_id: \",gene.id)\n",
        "    print(\"name: \",gene.name)\n",
        "    print(\"associated reactions:\")\n",
        "    for reac in gene.reactions:\n",
        "        print(reac.id, ', ', reac.name)\n",
        "    return\n",
        "\n",
        "print_gene_info(model.genes.b0841)"
      ],
      "metadata": {
        "colab": {
          "base_uri": "https://localhost:8080/"
        },
        "id": "CSaizuyKz-87",
        "outputId": "e66db0a8-495f-42b1-962c-f21e24681761"
      },
      "execution_count": null,
      "outputs": [
        {
          "output_type": "stream",
          "name": "stdout",
          "text": [
            "cobra_id:  b0841\n",
            "name:  ybjG\n",
            "associated reactions:\n",
            "UDCPDPpp ,  Undecaprenyl-diphosphatase (periplasm)\n",
            "UDCPDP ,  Undecaprenyl-diphosphatase\n"
          ]
        }
      ]
    },
    {
      "cell_type": "markdown",
      "source": [
        "**Perform FBA with the biomass as objective**"
      ],
      "metadata": {
        "id": "74DklSf07CmP"
      }
    },
    {
      "cell_type": "code",
      "source": [
        "solution = model.optimize()\n",
        "solution"
      ],
      "metadata": {
        "colab": {
          "base_uri": "https://localhost:8080/",
          "height": 441
        },
        "id": "WEZjDrF70LG1",
        "outputId": "c95fc23a-f0d7-46a3-c167-83454754911d"
      },
      "execution_count": null,
      "outputs": [
        {
          "output_type": "execute_result",
          "data": {
            "text/plain": [
              "<Solution 0.982 at 0x7e60e54c7b80>"
            ],
            "text/html": [
              "<strong><em>Optimal</em> solution with objective value 0.982</strong><br><div>\n",
              "<style scoped>\n",
              "    .dataframe tbody tr th:only-of-type {\n",
              "        vertical-align: middle;\n",
              "    }\n",
              "\n",
              "    .dataframe tbody tr th {\n",
              "        vertical-align: top;\n",
              "    }\n",
              "\n",
              "    .dataframe thead th {\n",
              "        text-align: right;\n",
              "    }\n",
              "</style>\n",
              "<table border=\"1\" class=\"dataframe\">\n",
              "  <thead>\n",
              "    <tr style=\"text-align: right;\">\n",
              "      <th></th>\n",
              "      <th>fluxes</th>\n",
              "      <th>reduced_costs</th>\n",
              "    </tr>\n",
              "  </thead>\n",
              "  <tbody>\n",
              "    <tr>\n",
              "      <th>EX_cm_e</th>\n",
              "      <td>0.000000</td>\n",
              "      <td>0.000000e+00</td>\n",
              "    </tr>\n",
              "    <tr>\n",
              "      <th>EX_cmp_e</th>\n",
              "      <td>0.000000</td>\n",
              "      <td>-2.965572e-01</td>\n",
              "    </tr>\n",
              "    <tr>\n",
              "      <th>EX_co2_e</th>\n",
              "      <td>19.675223</td>\n",
              "      <td>0.000000e+00</td>\n",
              "    </tr>\n",
              "    <tr>\n",
              "      <th>EX_cobalt2_e</th>\n",
              "      <td>-0.000025</td>\n",
              "      <td>0.000000e+00</td>\n",
              "    </tr>\n",
              "    <tr>\n",
              "      <th>DM_4crsol_c</th>\n",
              "      <td>0.000219</td>\n",
              "      <td>0.000000e+00</td>\n",
              "    </tr>\n",
              "    <tr>\n",
              "      <th>...</th>\n",
              "      <td>...</td>\n",
              "      <td>...</td>\n",
              "    </tr>\n",
              "    <tr>\n",
              "      <th>RNDR4</th>\n",
              "      <td>0.000000</td>\n",
              "      <td>-2.073827e-03</td>\n",
              "    </tr>\n",
              "    <tr>\n",
              "      <th>RNDR4b</th>\n",
              "      <td>0.000000</td>\n",
              "      <td>-2.073827e-03</td>\n",
              "    </tr>\n",
              "    <tr>\n",
              "      <th>RNTR1c2</th>\n",
              "      <td>0.025705</td>\n",
              "      <td>0.000000e+00</td>\n",
              "    </tr>\n",
              "    <tr>\n",
              "      <th>RNTR2c2</th>\n",
              "      <td>0.026541</td>\n",
              "      <td>2.775558e-17</td>\n",
              "    </tr>\n",
              "    <tr>\n",
              "      <th>RNTR3c2</th>\n",
              "      <td>0.026541</td>\n",
              "      <td>2.775558e-17</td>\n",
              "    </tr>\n",
              "  </tbody>\n",
              "</table>\n",
              "<p>2583 rows × 2 columns</p>\n",
              "</div>"
            ]
          },
          "metadata": {},
          "execution_count": 7
        }
      ]
    },
    {
      "cell_type": "markdown",
      "source": [
        "**Adjusting the boundaries to grow under aerobic conditions!**"
      ],
      "metadata": {
        "id": "aGLtyM7M7Fg_"
      }
    },
    {
      "cell_type": "code",
      "source": [
        "# Realistic glucose uptake\n",
        "model.reactions.EX_glc__D_e.lower_bound = -18.5\n",
        "# Practically unlimited oxygen intake\n",
        "model.reactions.EX_o2_e.lower_bound = -1000\n",
        "# Making the biomass reaction as the objective\n",
        "model.objective = 'BIOMASS_Ec_iJO1366_core_53p95M'"
      ],
      "metadata": {
        "id": "Tz5DBjboiGNo"
      },
      "execution_count": 11,
      "outputs": []
    },
    {
      "cell_type": "code",
      "source": [
        "# Let's see the biomass reaction\n",
        "model.reactions.BIOMASS_Ec_iJO1366_core_53p95M.reaction"
      ],
      "metadata": {
        "colab": {
          "base_uri": "https://localhost:8080/",
          "height": 139
        },
        "id": "FH6AkqY51Xzy",
        "outputId": "16643ef3-a026-47c7-fb0b-3e6b0cb70d80"
      },
      "execution_count": null,
      "outputs": [
        {
          "output_type": "execute_result",
          "data": {
            "text/plain": [
              "'0.000223 10fthf_c + 2.6e-05 2fe2s_c + 0.000223 2ohph_c + 0.00026 4fe4s_c + 0.513689 ala__L_c + 0.000223 amet_c + 0.295792 arg__L_c + 0.241055 asn__L_c + 0.241055 asp__L_c + 54.124831 atp_c + 0.000122 bmocogdp_c + 2e-06 btn_c + 0.005205 ca2_c + 0.005205 cl_c + 0.000576 coa_c + 2.5e-05 cobalt2_c + 0.133508 ctp_c + 0.000709 cu2_c + 0.09158 cys__L_c + 0.026166 datp_c + 0.027017 dctp_c + 0.027017 dgtp_c + 0.026166 dttp_c + 0.000223 fad_c + 0.006715 fe2_c + 0.007808 fe3_c + 0.26316 gln__L_c + 0.26316 glu__L_c + 0.612638 gly_c + 0.215096 gtp_c + 48.601527 h2o_c + 0.094738 his__L_c + 0.290529 ile__L_c + 0.195193 k_c + 0.019456 kdo2lipid4_e + 0.450531 leu__L_c + 0.343161 lys__L_c + 0.153686 met__L_c + 0.008675 mg2_c + 0.000223 mlthf_c + 0.000691 mn2_c + 7e-06 mobd_c + 0.013894 murein5px4p_p + 0.001831 nad_c + 0.000447 nadp_c + 0.013013 nh4_c + 0.000323 ni2_c + 0.017868 pe160_c + 0.045946 pe160_p + 0.054154 pe161_c + 0.02106 pe161_p + 0.185265 phe__L_c + 0.000223 pheme_c + 0.221055 pro__L_c + 0.000223 pydx5p_c + 0.000223 ribflv_c + 0.215792 ser__L_c + 0.000223 sheme_c + 0.004338 so4_c + 0.000223 thf_c + 0.000223 thmpp_c + 0.253687 thr__L_c + 0.056843 trp__L_c + 0.137896 tyr__L_c + 5.5e-05 udcpdp_c + 0.144104 utp_c + 0.423162 val__L_c + 0.000341 zn2_c --> 53.95 adp_c + 53.95 h_c + 53.945662 pi_c + 0.773903 ppi_c'"
            ],
            "application/vnd.google.colaboratory.intrinsic+json": {
              "type": "string"
            }
          },
          "metadata": {},
          "execution_count": 10
        }
      ]
    },
    {
      "cell_type": "code",
      "source": [
        "solution = model.optimize()\n",
        "solution"
      ],
      "metadata": {
        "colab": {
          "base_uri": "https://localhost:8080/",
          "height": 441
        },
        "id": "GMeWhzkj1h4z",
        "outputId": "daaa155f-c802-4e13-d943-041a7f2c4771"
      },
      "execution_count": 12,
      "outputs": [
        {
          "output_type": "execute_result",
          "data": {
            "text/plain": [
              "<Solution 1.828 at 0x7d22be825d80>"
            ],
            "text/html": [
              "<strong><em>Optimal</em> solution with objective value 1.828</strong><br><div>\n",
              "<style scoped>\n",
              "    .dataframe tbody tr th:only-of-type {\n",
              "        vertical-align: middle;\n",
              "    }\n",
              "\n",
              "    .dataframe tbody tr th {\n",
              "        vertical-align: top;\n",
              "    }\n",
              "\n",
              "    .dataframe thead th {\n",
              "        text-align: right;\n",
              "    }\n",
              "</style>\n",
              "<table border=\"1\" class=\"dataframe\">\n",
              "  <thead>\n",
              "    <tr style=\"text-align: right;\">\n",
              "      <th></th>\n",
              "      <th>fluxes</th>\n",
              "      <th>reduced_costs</th>\n",
              "    </tr>\n",
              "  </thead>\n",
              "  <tbody>\n",
              "    <tr>\n",
              "      <th>EX_cm_e</th>\n",
              "      <td>0.000000</td>\n",
              "      <td>0.000000</td>\n",
              "    </tr>\n",
              "    <tr>\n",
              "      <th>EX_cmp_e</th>\n",
              "      <td>0.000000</td>\n",
              "      <td>-0.296557</td>\n",
              "    </tr>\n",
              "    <tr>\n",
              "      <th>EX_co2_e</th>\n",
              "      <td>35.943305</td>\n",
              "      <td>0.000000</td>\n",
              "    </tr>\n",
              "    <tr>\n",
              "      <th>EX_cobalt2_e</th>\n",
              "      <td>-0.000046</td>\n",
              "      <td>0.000000</td>\n",
              "    </tr>\n",
              "    <tr>\n",
              "      <th>DM_4crsol_c</th>\n",
              "      <td>0.000408</td>\n",
              "      <td>0.000000</td>\n",
              "    </tr>\n",
              "    <tr>\n",
              "      <th>...</th>\n",
              "      <td>...</td>\n",
              "      <td>...</td>\n",
              "    </tr>\n",
              "    <tr>\n",
              "      <th>RNDR4</th>\n",
              "      <td>0.000000</td>\n",
              "      <td>-0.002074</td>\n",
              "    </tr>\n",
              "    <tr>\n",
              "      <th>RNDR4b</th>\n",
              "      <td>0.000000</td>\n",
              "      <td>-0.002074</td>\n",
              "    </tr>\n",
              "    <tr>\n",
              "      <th>RNTR1c2</th>\n",
              "      <td>0.047844</td>\n",
              "      <td>0.000000</td>\n",
              "    </tr>\n",
              "    <tr>\n",
              "      <th>RNTR2c2</th>\n",
              "      <td>0.049400</td>\n",
              "      <td>0.000000</td>\n",
              "    </tr>\n",
              "    <tr>\n",
              "      <th>RNTR3c2</th>\n",
              "      <td>0.049400</td>\n",
              "      <td>0.000000</td>\n",
              "    </tr>\n",
              "  </tbody>\n",
              "</table>\n",
              "<p>2583 rows × 2 columns</p>\n",
              "</div>"
            ]
          },
          "metadata": {},
          "execution_count": 12
        }
      ]
    },
    {
      "cell_type": "markdown",
      "source": [
        "1. Why did the biomass flux increase?\n",
        "2. Is there a maximum biomass flux that is independent of glucose and oxygen intake, meaning a certain glucose and oxygen intakes that no matter how much you increase after the biomass flux is still constant? **No need to write code in this question**, I only want you to briefly research \"Robustness\" and tell me your thoughts!\n",
        "3. What if you try minimization of biomass flux instead of maximization? Why would we want to do that? Can you make a comment on the output? **Write code for this question**"
      ],
      "metadata": {
        "id": "n47Yb2aX7Lfv"
      }
    },
    {
      "cell_type": "markdown",
      "source": [
        "Your answers here:\n",
        "1.\n",
        "2."
      ],
      "metadata": {
        "id": "fOB87wFU9rAN"
      }
    },
    {
      "cell_type": "code",
      "source": [
        "# Your answer for 3. here."
      ],
      "metadata": {
        "id": "tUC7ISQzKVzG"
      },
      "execution_count": null,
      "outputs": []
    },
    {
      "cell_type": "markdown",
      "source": [
        "Now Let's see the map in Escher!"
      ],
      "metadata": {
        "id": "E9B49oQG7OnP"
      }
    },
    {
      "cell_type": "code",
      "source": [
        "!pip install escher"
      ],
      "metadata": {
        "id": "zzHY-w672L-K"
      },
      "execution_count": null,
      "outputs": []
    },
    {
      "cell_type": "code",
      "source": [
        "# !pip install markupsafe==2.0.1\n",
        "\n",
        "# Try import escher only at first, if it gave you an error, run the code above, restart the session, comment marksafe installation, and import again\n",
        "import escher"
      ],
      "metadata": {
        "id": "42KFJRfy2iSi"
      },
      "execution_count": null,
      "outputs": []
    },
    {
      "cell_type": "markdown",
      "source": [
        "**To know Escher's available maps! We can see our model among the available maps.**"
      ],
      "metadata": {
        "id": "pPrQqX037her"
      }
    },
    {
      "cell_type": "code",
      "source": [
        "escher.list_available_maps()"
      ],
      "metadata": {
        "colab": {
          "base_uri": "https://localhost:8080/"
        },
        "id": "AUW22Plq2_tU",
        "outputId": "1ad9ce09-47b4-452a-db5a-6cd2773be6f7"
      },
      "execution_count": null,
      "outputs": [
        {
          "output_type": "execute_result",
          "data": {
            "text/plain": [
              "[{'organism': 'Saccharomyces cerevisiae',\n",
              "  'map_name': 'iMM904.Central carbon metabolism'},\n",
              " {'organism': 'Homo sapiens',\n",
              "  'map_name': 'RECON1.Inositol retinol metabolism'},\n",
              " {'organism': 'Homo sapiens', 'map_name': 'RECON1.Glycolysis TCA PPP'},\n",
              " {'organism': 'Homo sapiens', 'map_name': 'RECON1.Tryptophan metabolism'},\n",
              " {'organism': 'Homo sapiens', 'map_name': 'RECON1.Carbohydrate metabolism'},\n",
              " {'organism': 'Homo sapiens',\n",
              "  'map_name': 'RECON1.Amino acid metabolism (partial)'},\n",
              " {'organism': 'Escherichia coli', 'map_name': 'iJO1366.Nucleotide metabolism'},\n",
              " {'organism': 'Escherichia coli',\n",
              "  'map_name': 'iJO1366.Fatty acid biosynthesis (saturated)'},\n",
              " {'organism': 'Escherichia coli',\n",
              "  'map_name': 'iJO1366.Nucleotide and histidine biosynthesis'},\n",
              " {'organism': 'Escherichia coli', 'map_name': 'e_coli_core.Core metabolism'},\n",
              " {'organism': 'Escherichia coli', 'map_name': 'iJO1366.Central metabolism'},\n",
              " {'organism': 'Escherichia coli',\n",
              "  'map_name': 'iJO1366.Fatty acid beta-oxidation'}]"
            ]
          },
          "metadata": {},
          "execution_count": 14
        }
      ]
    },
    {
      "cell_type": "markdown",
      "source": [
        "**Normally you can see the map in the notebook directly, but I tried a lot and it's invisible. So the solution is to download it as an .html file and just open that downloaded file.**"
      ],
      "metadata": {
        "id": "Qj9C_fB07tk_"
      }
    },
    {
      "cell_type": "code",
      "source": [
        "# This is the default one\n",
        "metabolicMap = escher.Builder(map_name='iJO1366.Central metabolism')\n",
        "metabolicMap.save_html(\"map.html\")"
      ],
      "metadata": {
        "colab": {
          "base_uri": "https://localhost:8080/",
          "height": 34
        },
        "id": "9MqbLwo13uxj",
        "outputId": "bdf869ce-ffe9-44bb-c08e-feb5dd1a6c92"
      },
      "execution_count": null,
      "outputs": [
        {
          "output_type": "stream",
          "name": "stdout",
          "text": [
            "Downloading Map from https://escher.github.io/1-0-0/6/maps/Escherichia%20coli/e_coli_core.Core%20metabolism.json\n"
          ]
        }
      ]
    },
    {
      "cell_type": "code",
      "source": [
        "# This is the one where we changed the boundaries!\n",
        "metabolicMapWithBoundariesChanged = escher.Builder(map_name='iJO1366.Central metabolism',\n",
        "                              reaction_data=solution.fluxes, # this is a variable storing all flux values\n",
        "                              # color and size according to the absolute value\n",
        "                              reaction_styles=['color', 'size', 'abs', 'text'],\n",
        "                              # change the default colors\n",
        "                              reaction_scale=[{'type': 'min', 'color': '#cccccc', 'size': 4},\n",
        "                                              {'type': 'mean', 'color': '#0000dd', 'size': 20},\n",
        "                                              {'type': 'max', 'color': '#ff0000', 'size': 40}],\n",
        "                              # only show the primary metabolites\n",
        "                              hide_secondary_metabolites=True)\n",
        "metabolicMapWithBoundariesChanged.save_html(\"map2.html\")"
      ],
      "metadata": {
        "colab": {
          "base_uri": "https://localhost:8080/",
          "height": 34
        },
        "id": "NmfTG_v58Fxe",
        "outputId": "c77211c3-4b6e-4795-e6d6-2da1b6ae1f06"
      },
      "execution_count": null,
      "outputs": [
        {
          "output_type": "stream",
          "name": "stdout",
          "text": [
            "Downloading Map from https://escher.github.io/1-0-0/6/maps/Escherichia%20coli/iJO1366.Central%20metabolism.json\n"
          ]
        }
      ]
    },
    {
      "cell_type": "markdown",
      "source": [
        "**What do you notice when you compare the two maps and what's your interpretation?**"
      ],
      "metadata": {
        "id": "6gYRBAJW8oAX"
      }
    },
    {
      "cell_type": "markdown",
      "source": [
        "Your answer here."
      ],
      "metadata": {
        "id": "6H7AVmzC9wgt"
      }
    },
    {
      "cell_type": "markdown",
      "source": [
        "**Now we want the model to grow on anaerobic conditions! So we limit oxygen intake (lower bound) to 0!**"
      ],
      "metadata": {
        "id": "vG8E_hdc8zRX"
      }
    },
    {
      "cell_type": "code",
      "source": [
        "print(\"Aerobic conditions: \")\n",
        "model.reactions.EX_o2_e.lower_bound = -1000\n",
        "solution = model.optimize()\n",
        "print(solution.objective_value)\n",
        "model.reactions.EX_o2_e.lower_bound = 0\n",
        "print(\"Anaerobic conditions: \")\n",
        "solution = model.optimize()\n",
        "print(solution.objective_value)"
      ],
      "metadata": {
        "id": "QxigXHs283mh"
      },
      "execution_count": null,
      "outputs": []
    },
    {
      "cell_type": "markdown",
      "source": [
        "1. **What's the drop percentage in the optimal biomass flux?**\n",
        "2. **Why did it drop?**"
      ],
      "metadata": {
        "id": "h7FxiDky-jyu"
      }
    },
    {
      "cell_type": "markdown",
      "source": [
        "Your answers here:\n",
        "1.\n",
        "2."
      ],
      "metadata": {
        "id": "-mZ9Uggf-vWe"
      }
    },
    {
      "cell_type": "markdown",
      "source": [
        "**To be able to answer the part above, you may need to visualize Escher's map and check the enriched/depleted pathways.**"
      ],
      "metadata": {
        "id": "Cc1ofiTU_CNW"
      }
    },
    {
      "cell_type": "code",
      "source": [
        "metabolicMapAnaerobic = escher.Builder(map_name='iJO1366.Central metabolism',\n",
        "                              reaction_data=solution.fluxes,\n",
        "                              # color and size according to the absolute value\n",
        "                              reaction_styles=['color', 'size', 'abs', 'text'],\n",
        "                              # change the default colors\n",
        "                              reaction_scale=[{'type': 'min', 'color': '#cccccc', 'size': 4},\n",
        "                                              {'type': 'mean', 'color': '#0000dd', 'size': 20},\n",
        "                                              {'type': 'max', 'color': '#ff0000', 'size': 40}],\n",
        "                              # only show the primary metabolites\n",
        "                              hide_secondary_metabolites=True)\n",
        "metabolicMapAnaerobic.save_html(\"map3.html\")"
      ],
      "metadata": {
        "colab": {
          "base_uri": "https://localhost:8080/",
          "height": 34
        },
        "id": "d4eP8IDX-uL2",
        "outputId": "f9e3ea47-b408-43a6-ac03-c1571aebef2e"
      },
      "execution_count": null,
      "outputs": [
        {
          "output_type": "stream",
          "name": "stdout",
          "text": [
            "Downloading Map from https://escher.github.io/1-0-0/6/maps/Escherichia%20coli/iJO1366.Central%20metabolism.json\n"
          ]
        }
      ]
    },
    {
      "cell_type": "markdown",
      "source": [
        "**Now we want the model to grow on different substrates other than glucose! Both in aerobic and anaerobic conditions!**\n",
        "\n",
        "**What are the allowed substrates for growth? Those that are in the exchange reaction, that the model can uptake from the medium.**"
      ],
      "metadata": {
        "id": "ffTdgOeoATZF"
      }
    },
    {
      "cell_type": "code",
      "source": [
        "# To see all the exchange reactions, we can...\n",
        "model.exchanges\n",
        "# Notice how Ex_glc__D_e is among them!"
      ],
      "metadata": {
        "colab": {
          "base_uri": "https://localhost:8080/"
        },
        "id": "ExwUQjo-AYgS",
        "outputId": "28e55f5b-00d7-4aef-984a-119cf9b34a47"
      },
      "execution_count": null,
      "outputs": [
        {
          "output_type": "execute_result",
          "data": {
            "text/plain": [
              "[<Reaction EX_cm_e at 0x7fc8388e6530>,\n",
              " <Reaction EX_cmp_e at 0x7fc8388e6440>,\n",
              " <Reaction EX_co2_e at 0x7fc8388e6770>,\n",
              " <Reaction EX_cobalt2_e at 0x7fc8388e6800>,\n",
              " <Reaction EX_colipa_e at 0x7fc8388e6ef0>,\n",
              " <Reaction EX_glc__D_e at 0x7fc8388e7130>,\n",
              " <Reaction EX_glcn_e at 0x7fc8388e7250>,\n",
              " <Reaction EX_glcr_e at 0x7fc8388e7490>,\n",
              " <Reaction EX_colipap_e at 0x7fc8388e7760>,\n",
              " <Reaction EX_glcur_e at 0x7fc8388e71c0>,\n",
              " <Reaction EX_glcur1p_e at 0x7fc8388e6380>,\n",
              " <Reaction EX_12ppd__R_e at 0x7fc83876f580>,\n",
              " <Reaction EX_gln__L_e at 0x7fc83876f850>,\n",
              " <Reaction EX_cpgn_e at 0x7fc83876f280>,\n",
              " <Reaction EX_glu__L_e at 0x7fc83876f460>,\n",
              " <Reaction EX_gly_e at 0x7fc83876f340>,\n",
              " <Reaction EX_glyald_e at 0x7fc83876f5b0>,\n",
              " <Reaction EX_glyb_e at 0x7fc838796470>,\n",
              " <Reaction EX_glyc_e at 0x7fc838796590>,\n",
              " <Reaction EX_12ppd__S_e at 0x7fc8387966b0>,\n",
              " <Reaction EX_14glucan_e at 0x7fc8387967d0>,\n",
              " <Reaction EX_cpgn_un_e at 0x7fc8387968f0>,\n",
              " <Reaction EX_15dap_e at 0x7fc838796a10>,\n",
              " <Reaction EX_glyc__R_e at 0x7fc838796b30>,\n",
              " <Reaction EX_glyc2p_e at 0x7fc838796c50>,\n",
              " <Reaction EX_23camp_e at 0x7fc838796d70>,\n",
              " <Reaction EX_23ccmp_e at 0x7fc838796e90>,\n",
              " <Reaction EX_23cgmp_e at 0x7fc838796fb0>,\n",
              " <Reaction EX_23cump_e at 0x7fc8387970d0>,\n",
              " <Reaction EX_23dappa_e at 0x7fc8387971f0>,\n",
              " <Reaction EX_26dap__M_e at 0x7fc838797310>,\n",
              " <Reaction EX_glyc3p_e at 0x7fc838797430>,\n",
              " <Reaction EX_glyclt_e at 0x7fc838797550>,\n",
              " <Reaction EX_gmp_e at 0x7fc838797670>,\n",
              " <Reaction EX_gsn_e at 0x7fc838797790>,\n",
              " <Reaction EX_gthox_e at 0x7fc8387978b0>,\n",
              " <Reaction EX_gthrd_e at 0x7fc8387979d0>,\n",
              " <Reaction EX_gtp_e at 0x7fc838797af0>,\n",
              " <Reaction EX_gua_e at 0x7fc838797c10>,\n",
              " <Reaction EX_h_e at 0x7fc838797d30>,\n",
              " <Reaction EX_h2_e at 0x7fc838797e50>,\n",
              " <Reaction EX_h2o_e at 0x7fc838797f70>,\n",
              " <Reaction EX_h2o2_e at 0x7fc838796500>,\n",
              " <Reaction EX_h2s_e at 0x7fc838796230>,\n",
              " <Reaction EX_hacolipa_e at 0x7fc838797b80>,\n",
              " <Reaction EX_halipa_e at 0x7fc8387c0430>,\n",
              " <Reaction EX_hdca_e at 0x7fc8387c0550>,\n",
              " <Reaction EX_hdcea_e at 0x7fc8387c0670>,\n",
              " <Reaction EX_hg2_e at 0x7fc8387c0790>,\n",
              " <Reaction EX_his__L_e at 0x7fc8387c08b0>,\n",
              " <Reaction EX_2ddglcn_e at 0x7fc8387c09d0>,\n",
              " <Reaction EX_34dhpac_e at 0x7fc8387c0af0>,\n",
              " <Reaction EX_3amp_e at 0x7fc8387c0c10>,\n",
              " <Reaction EX_3cmp_e at 0x7fc8387c0d30>,\n",
              " <Reaction EX_3gmp_e at 0x7fc8387c0e50>,\n",
              " <Reaction EX_3hcinnm_e at 0x7fc8387c0f70>,\n",
              " <Reaction EX_3hpp_e at 0x7fc8387c1090>,\n",
              " <Reaction EX_3hpppn_e at 0x7fc8387c11b0>,\n",
              " <Reaction EX_hom__L_e at 0x7fc8387c12d0>,\n",
              " <Reaction EX_hxa_e at 0x7fc8387c13f0>,\n",
              " <Reaction EX_hxan_e at 0x7fc8387c1510>,\n",
              " <Reaction EX_idon__L_e at 0x7fc8387c1630>,\n",
              " <Reaction EX_3ump_e at 0x7fc8387c1750>,\n",
              " <Reaction EX_4abut_e at 0x7fc8387c1870>,\n",
              " <Reaction EX_4hoxpacd_e at 0x7fc8387c1990>,\n",
              " <Reaction EX_5dglcn_e at 0x7fc8387c1ab0>,\n",
              " <Reaction EX_5mtr_e at 0x7fc8387c1bd0>,\n",
              " <Reaction EX_LalaDglu_e at 0x7fc8387c1cf0>,\n",
              " <Reaction EX_ile__L_e at 0x7fc8387c1e10>,\n",
              " <Reaction EX_imp_e at 0x7fc8387c1f30>,\n",
              " <Reaction EX_indole_e at 0x7fc8387c2050>,\n",
              " <Reaction EX_inost_e at 0x7fc8387c2170>,\n",
              " <Reaction EX_ins_e at 0x7fc8387c2290>,\n",
              " <Reaction EX_isetac_e at 0x7fc8387c23b0>,\n",
              " <Reaction EX_k_e at 0x7fc8387c24d0>,\n",
              " <Reaction EX_LalaDgluMdap_e at 0x7fc8387c25f0>,\n",
              " <Reaction EX_LalaDgluMdapDala_e at 0x7fc8387c2710>,\n",
              " <Reaction EX_LalaLglu_e at 0x7fc8387c2830>,\n",
              " <Reaction EX_kdo2lipid4_e at 0x7fc8387c2950>,\n",
              " <Reaction EX_ac_e at 0x7fc8387c2a70>,\n",
              " <Reaction EX_crn_e at 0x7fc8387c2b90>,\n",
              " <Reaction EX_acac_e at 0x7fc8387c2cb0>,\n",
              " <Reaction EX_acald_e at 0x7fc8387c2dd0>,\n",
              " <Reaction EX_lac__D_e at 0x7fc8387c2ef0>,\n",
              " <Reaction EX_lac__L_e at 0x7fc8387c3010>,\n",
              " <Reaction EX_crn__D_e at 0x7fc8387c3130>,\n",
              " <Reaction EX_lcts_e at 0x7fc8387c3250>,\n",
              " <Reaction EX_acgal_e at 0x7fc8387c3370>,\n",
              " <Reaction EX_acgal1p_e at 0x7fc8387c3490>,\n",
              " <Reaction EX_acgam_e at 0x7fc8387c35b0>,\n",
              " <Reaction EX_leu__L_e at 0x7fc8387c36d0>,\n",
              " <Reaction EX_csn_e at 0x7fc8387c37f0>,\n",
              " <Reaction EX_acgam1p_e at 0x7fc8387c3910>,\n",
              " <Reaction EX_acmana_e at 0x7fc8387c3a30>,\n",
              " <Reaction EX_acmum_e at 0x7fc8387c3b50>,\n",
              " <Reaction EX_lipa_e at 0x7fc8387c3c70>,\n",
              " <Reaction EX_cu_e at 0x7fc8387c3d90>,\n",
              " <Reaction EX_lipa_cold_e at 0x7fc8387c3eb0>,\n",
              " <Reaction EX_acnam_e at 0x7fc8387c3be0>,\n",
              " <Reaction EX_acolipa_e at 0x7fc8387c01f0>,\n",
              " <Reaction EX_cu2_e at 0x7fc8387c3ac0>,\n",
              " <Reaction EX_acser_e at 0x7fc8387c04c0>,\n",
              " <Reaction EX_ade_e at 0x7fc8387fc490>,\n",
              " <Reaction EX_adn_e at 0x7fc8387fc5b0>,\n",
              " <Reaction EX_adocbl_e at 0x7fc8387fc6d0>,\n",
              " <Reaction EX_ag_e at 0x7fc8387fc7f0>,\n",
              " <Reaction EX_lipoate_e at 0x7fc8387fc910>,\n",
              " <Reaction EX_lys__L_e at 0x7fc8387fca30>,\n",
              " <Reaction EX_lyx__L_e at 0x7fc8387fcb50>,\n",
              " <Reaction EX_mal__D_e at 0x7fc8387fcc70>,\n",
              " <Reaction EX_agm_e at 0x7fc8387fcd90>,\n",
              " <Reaction EX_akg_e at 0x7fc8387fceb0>,\n",
              " <Reaction EX_cyan_e at 0x7fc8387fcfd0>,\n",
              " <Reaction EX_ala_B_e at 0x7fc8387fd0f0>,\n",
              " <Reaction EX_ala__D_e at 0x7fc8387fd210>,\n",
              " <Reaction EX_ala__L_e at 0x7fc8387fd330>,\n",
              " <Reaction EX_alaala_e at 0x7fc8387fd450>,\n",
              " <Reaction EX_all__D_e at 0x7fc8387fd570>,\n",
              " <Reaction EX_alltn_e at 0x7fc8387fd690>,\n",
              " <Reaction EX_amp_e at 0x7fc8387fd7b0>,\n",
              " <Reaction EX_anhgm_e at 0x7fc8387fd8d0>,\n",
              " <Reaction EX_arab__L_e at 0x7fc8387fd9f0>,\n",
              " <Reaction EX_mal__L_e at 0x7fc8387fdb10>,\n",
              " <Reaction EX_malt_e at 0x7fc8387fdc30>,\n",
              " <Reaction EX_malthx_e at 0x7fc8387fdd50>,\n",
              " <Reaction EX_maltpt_e at 0x7fc8387fde70>,\n",
              " <Reaction EX_malttr_e at 0x7fc8387fdf90>,\n",
              " <Reaction EX_maltttr_e at 0x7fc8387fe0b0>,\n",
              " <Reaction EX_man_e at 0x7fc8387fe1d0>,\n",
              " <Reaction EX_cynt_e at 0x7fc8387fe2f0>,\n",
              " <Reaction EX_man6p_e at 0x7fc8387fe410>,\n",
              " <Reaction EX_manglyc_e at 0x7fc8387fe530>,\n",
              " <Reaction EX_melib_e at 0x7fc8387fe650>,\n",
              " <Reaction EX_cys__D_e at 0x7fc8387fe770>,\n",
              " <Reaction EX_meoh_e at 0x7fc8387fe890>,\n",
              " <Reaction EX_met__D_e at 0x7fc8387fe9b0>,\n",
              " <Reaction EX_arbt_e at 0x7fc8387fead0>,\n",
              " <Reaction EX_arbtn_e at 0x7fc8387febf0>,\n",
              " <Reaction EX_arbtn_fe3_e at 0x7fc8387fed10>,\n",
              " <Reaction EX_met__L_e at 0x7fc8387fee30>,\n",
              " <Reaction EX_cys__L_e at 0x7fc8387fef50>,\n",
              " <Reaction EX_metsox_R__L_e at 0x7fc8387ff070>,\n",
              " <Reaction EX_metsox_S__L_e at 0x7fc8387ff190>,\n",
              " <Reaction EX_mg2_e at 0x7fc8387ff2b0>,\n",
              " <Reaction EX_mincyc_e at 0x7fc8387ff3d0>,\n",
              " <Reaction EX_minohp_e at 0x7fc8387ff4f0>,\n",
              " <Reaction EX_mmet_e at 0x7fc8387ff610>,\n",
              " <Reaction EX_arg__L_e at 0x7fc8387ff730>,\n",
              " <Reaction EX_ascb__L_e at 0x7fc8387ff850>,\n",
              " <Reaction EX_asn__L_e at 0x7fc8387ff970>,\n",
              " <Reaction EX_aso3_e at 0x7fc8387ffa90>,\n",
              " <Reaction EX_asp__L_e at 0x7fc8387ffbb0>,\n",
              " <Reaction EX_btn_e at 0x7fc8387ffcd0>,\n",
              " <Reaction EX_but_e at 0x7fc8387ffdf0>,\n",
              " <Reaction EX_mn2_e at 0x7fc8387fffd0>,\n",
              " <Reaction EX_mnl_e at 0x7fc8387fc520>,\n",
              " <Reaction EX_mobd_e at 0x7fc8387fc250>,\n",
              " <Reaction EX_mso3_e at 0x7fc8387ffb20>,\n",
              " <Reaction EX_n2o_e at 0x7fc8388343d0>,\n",
              " <Reaction EX_na1_e at 0x7fc8388344f0>,\n",
              " <Reaction EX_nac_e at 0x7fc838834610>,\n",
              " <Reaction EX_nh4_e at 0x7fc838834730>,\n",
              " <Reaction EX_butso3_e at 0x7fc838834850>,\n",
              " <Reaction EX_ca2_e at 0x7fc838834970>,\n",
              " <Reaction EX_cbi_e at 0x7fc838834a90>,\n",
              " <Reaction EX_cytd_e at 0x7fc838834bb0>,\n",
              " <Reaction EX_cbl1_e at 0x7fc838834cd0>,\n",
              " <Reaction EX_cd2_e at 0x7fc838834df0>,\n",
              " <Reaction EX_cgly_e at 0x7fc838834f10>,\n",
              " <Reaction EX_ni2_e at 0x7fc838835030>,\n",
              " <Reaction EX_nmn_e at 0x7fc838835150>,\n",
              " <Reaction EX_no_e at 0x7fc838835270>,\n",
              " <Reaction EX_no2_e at 0x7fc838835390>,\n",
              " <Reaction EX_no3_e at 0x7fc8388354b0>,\n",
              " <Reaction EX_novbcn_e at 0x7fc8388355d0>,\n",
              " <Reaction EX_o16a4colipa_e at 0x7fc8388356f0>,\n",
              " <Reaction EX_o2_e at 0x7fc838835810>,\n",
              " <Reaction EX_o2s_e at 0x7fc838835930>,\n",
              " <Reaction EX_ocdca_e at 0x7fc838835a50>,\n",
              " <Reaction EX_ocdcea_e at 0x7fc838835b70>,\n",
              " <Reaction EX_octa_e at 0x7fc838835c90>,\n",
              " <Reaction EX_orn_e at 0x7fc838835db0>,\n",
              " <Reaction EX_orot_e at 0x7fc838835ed0>,\n",
              " <Reaction EX_pacald_e at 0x7fc838835ff0>,\n",
              " <Reaction EX_peamn_e at 0x7fc838836110>,\n",
              " <Reaction EX_phe__L_e at 0x7fc838836230>,\n",
              " <Reaction EX_pheme_e at 0x7fc838836350>,\n",
              " <Reaction EX_chol_e at 0x7fc838836470>,\n",
              " <Reaction EX_chtbs_e at 0x7fc838836590>,\n",
              " <Reaction EX_cit_e at 0x7fc8388366b0>,\n",
              " <Reaction EX_cl_e at 0x7fc8388367d0>,\n",
              " <Reaction EX_pi_e at 0x7fc8388368f0>,\n",
              " <Reaction EX_dad_2_e at 0x7fc838836a10>,\n",
              " <Reaction EX_pnto__R_e at 0x7fc838836b30>,\n",
              " <Reaction EX_ppa_e at 0x7fc838836c50>,\n",
              " <Reaction EX_damp_e at 0x7fc838836d70>,\n",
              " <Reaction EX_ppal_e at 0x7fc838836e90>,\n",
              " <Reaction EX_dca_e at 0x7fc838837160>,\n",
              " <Reaction EX_pppn_e at 0x7fc8388370d0>,\n",
              " <Reaction EX_ppt_e at 0x7fc838837220>,\n",
              " <Reaction EX_dcmp_e at 0x7fc838837340>,\n",
              " <Reaction EX_pro__L_e at 0x7fc838837460>,\n",
              " <Reaction EX_dcyt_e at 0x7fc838837580>,\n",
              " <Reaction EX_progly_e at 0x7fc8388376a0>,\n",
              " <Reaction EX_psclys_e at 0x7fc8388377c0>,\n",
              " <Reaction EX_ddca_e at 0x7fc8388378e0>,\n",
              " <Reaction EX_pser__L_e at 0x7fc838837a00>,\n",
              " <Reaction EX_ptrc_e at 0x7fc838837b20>,\n",
              " <Reaction EX_dgmp_e at 0x7fc838837c40>,\n",
              " <Reaction EX_dgsn_e at 0x7fc838837d60>,\n",
              " <Reaction EX_val__L_e at 0x7fc838837e80>,\n",
              " <Reaction EX_xan_e at 0x7fc838837f70>,\n",
              " <Reaction EX_dha_e at 0x7fc838834190>,\n",
              " <Reaction EX_xmp_e at 0x7fc838834460>,\n",
              " <Reaction EX_dimp_e at 0x7fc838837bb0>,\n",
              " <Reaction EX_din_e at 0x7fc838668460>,\n",
              " <Reaction EX_xtsn_e at 0x7fc838668580>,\n",
              " <Reaction EX_pydam_e at 0x7fc8386686a0>,\n",
              " <Reaction EX_xyl__D_e at 0x7fc8386687c0>,\n",
              " <Reaction EX_xylu__L_e at 0x7fc8386688e0>,\n",
              " <Reaction EX_zn2_e at 0x7fc838668a00>,\n",
              " <Reaction EX_pydx_e at 0x7fc8386695d0>,\n",
              " <Reaction EX_pydxn_e at 0x7fc838669780>,\n",
              " <Reaction EX_pyr_e at 0x7fc838669300>,\n",
              " <Reaction EX_quin_e at 0x7fc8386698a0>,\n",
              " <Reaction EX_r5p_e at 0x7fc8386699c0>,\n",
              " <Reaction EX_rfamp_e at 0x7fc838669ae0>,\n",
              " <Reaction EX_rib__D_e at 0x7fc838669c00>,\n",
              " <Reaction EX_rmn_e at 0x7fc838669d20>,\n",
              " <Reaction EX_sbt__D_e at 0x7fc838669e40>,\n",
              " <Reaction EX_sel_e at 0x7fc838669f60>,\n",
              " <Reaction EX_ser__D_e at 0x7fc83866a080>,\n",
              " <Reaction EX_ser__L_e at 0x7fc83866a1a0>,\n",
              " <Reaction EX_skm_e at 0x7fc83866a2c0>,\n",
              " <Reaction EX_dms_e at 0x7fc83866ae90>,\n",
              " <Reaction EX_slnt_e at 0x7fc83866b0a0>,\n",
              " <Reaction EX_so2_e at 0x7fc83866bd60>,\n",
              " <Reaction EX_so3_e at 0x7fc83866b370>,\n",
              " <Reaction EX_dmso_e at 0x7fc83866bf70>,\n",
              " <Reaction EX_so4_e at 0x7fc83866bac0>,\n",
              " <Reaction EX_spmd_e at 0x7fc83866bf40>,\n",
              " <Reaction EX_succ_e at 0x7fc83866ae00>,\n",
              " <Reaction EX_sucr_e at 0x7fc8386a4cd0>,\n",
              " <Reaction EX_sulfac_e at 0x7fc8386a50f0>,\n",
              " <Reaction EX_tartr__D_e at 0x7fc8386a5270>,\n",
              " <Reaction EX_dopa_e at 0x7fc8386a5060>,\n",
              " <Reaction EX_tartr__L_e at 0x7fc8386a61d0>,\n",
              " <Reaction EX_taur_e at 0x7fc8386a68f0>,\n",
              " <Reaction EX_tcynt_e at 0x7fc8386a6080>,\n",
              " <Reaction EX_doxrbcn_e at 0x7fc8386a7130>,\n",
              " <Reaction EX_thm_e at 0x7fc8386a7b80>,\n",
              " <Reaction EX_thr__L_e at 0x7fc8386a78b0>,\n",
              " <Reaction EX_dtmp_e at 0x7fc8386a7940>,\n",
              " <Reaction EX_thrp_e at 0x7fc8386a7e20>,\n",
              " <Reaction EX_thym_e at 0x7fc8386a7970>,\n",
              " <Reaction EX_dump_e at 0x7fc8386a7700>,\n",
              " <Reaction EX_thymd_e at 0x7fc8386cc400>,\n",
              " <Reaction EX_tma_e at 0x7fc8386ccbe0>,\n",
              " <Reaction EX_duri_e at 0x7fc8386cce20>,\n",
              " <Reaction EX_tmao_e at 0x7fc8386cc220>,\n",
              " <Reaction EX_tre_e at 0x7fc8386cd000>,\n",
              " <Reaction EX_trp__L_e at 0x7fc8386cd030>,\n",
              " <Reaction EX_tsul_e at 0x7fc8386cdff0>,\n",
              " <Reaction EX_eca4colipa_e at 0x7fc8386ce260>,\n",
              " <Reaction EX_ttdca_e at 0x7fc8386cd570>,\n",
              " <Reaction EX_ttdcea_e at 0x7fc8386ced10>,\n",
              " <Reaction EX_enlipa_e at 0x7fc8386cef80>,\n",
              " <Reaction EX_ttrcyc_e at 0x7fc8386cfb20>,\n",
              " <Reaction EX_enter_e at 0x7fc8386cffd0>,\n",
              " <Reaction EX_etha_e at 0x7fc8386cf4f0>,\n",
              " <Reaction EX_tungs_e at 0x7fc8386cfdf0>,\n",
              " <Reaction EX_tym_e at 0x7fc8386f9180>,\n",
              " <Reaction EX_ethso3_e at 0x7fc8386f95a0>,\n",
              " <Reaction EX_tyr__L_e at 0x7fc8386fa0e0>,\n",
              " <Reaction EX_tyrp_e at 0x7fc8386fa350>,\n",
              " <Reaction EX_uacgam_e at 0x7fc8386f9ae0>,\n",
              " <Reaction EX_udpacgal_e at 0x7fc8386fa530>,\n",
              " <Reaction EX_udpg_e at 0x7fc8386fa560>,\n",
              " <Reaction EX_udpgal_e at 0x7fc8386fadd0>,\n",
              " <Reaction EX_etoh_e at 0x7fc8386fb040>,\n",
              " <Reaction EX_udpglcur_e at 0x7fc8386faaa0>,\n",
              " <Reaction EX_ump_e at 0x7fc8386fa4a0>,\n",
              " <Reaction EX_f6p_e at 0x7fc8386fb730>,\n",
              " <Reaction EX_ura_e at 0x7fc8386fba30>,\n",
              " <Reaction EX_urea_e at 0x7fc8386fbb20>,\n",
              " <Reaction EX_fald_e at 0x7fc838725720>,\n",
              " <Reaction EX_uri_e at 0x7fc8387264a0>,\n",
              " <Reaction EX_fe2_e at 0x7fc838726e30>,\n",
              " <Reaction EX_fe3_e at 0x7fc838550250>,\n",
              " <Reaction EX_fe3dcit_e at 0x7fc838726b00>,\n",
              " <Reaction EX_fe3dhbzs_e at 0x7fc838727fd0>,\n",
              " <Reaction EX_fe3hox_e at 0x7fc838551570>,\n",
              " <Reaction EX_fe3hox_un_e at 0x7fc838551ed0>,\n",
              " <Reaction EX_fecrm_e at 0x7fc838574b80>,\n",
              " <Reaction EX_fecrm_un_e at 0x7fc838575840>,\n",
              " <Reaction EX_feenter_e at 0x7fc838598cd0>,\n",
              " <Reaction EX_feoxam_e at 0x7fc83859b670>,\n",
              " <Reaction EX_feoxam_un_e at 0x7fc8385c48b0>,\n",
              " <Reaction EX_for_e at 0x7fc83859a5f0>,\n",
              " <Reaction EX_fru_e at 0x7fc8385c5510>,\n",
              " <Reaction EX_frulys_e at 0x7fc8385c5f30>,\n",
              " <Reaction EX_fruur_e at 0x7fc8385c7280>,\n",
              " <Reaction EX_fuc__L_e at 0x7fc8385c7700>,\n",
              " <Reaction EX_fum_e at 0x7fc8385c6620>,\n",
              " <Reaction EX_fusa_e at 0x7fc8385c7ca0>,\n",
              " <Reaction EX_g1p_e at 0x7fc8386005e0>,\n",
              " <Reaction EX_g3pc_e at 0x7fc8385c7df0>,\n",
              " <Reaction EX_g3pe_e at 0x7fc838600730>,\n",
              " <Reaction EX_g3pg_e at 0x7fc838602f20>,\n",
              " <Reaction EX_g3pi_e at 0x7fc838601db0>,\n",
              " <Reaction EX_g3ps_e at 0x7fc838444670>,\n",
              " <Reaction EX_g6p_e at 0x7fc8384457b0>,\n",
              " <Reaction EX_gal_e at 0x7fc838445c00>,\n",
              " <Reaction EX_gal_bD_e at 0x7fc838446530>,\n",
              " <Reaction EX_gal1p_e at 0x7fc838447580>,\n",
              " <Reaction EX_galct__D_e at 0x7fc83847c6d0>,\n",
              " <Reaction EX_galctn__D_e at 0x7fc83876c8b0>,\n",
              " <Reaction EX_galctn__L_e at 0x7fc83876d240>,\n",
              " <Reaction EX_galt_e at 0x7fc83876fb50>,\n",
              " <Reaction EX_galur_e at 0x7fc8387c39a0>,\n",
              " <Reaction EX_gam_e at 0x7fc8387fdba0>,\n",
              " <Reaction EX_gam6p_e at 0x7fc8386680d0>,\n",
              " <Reaction EX_gbbtn_e at 0x7fc83866bfa0>,\n",
              " <Reaction EX_gdp_e at 0x7fc83866a350>]"
            ]
          },
          "metadata": {},
          "execution_count": 55
        }
      ]
    },
    {
      "cell_type": "code",
      "source": [
        "# To know how many they are, just use len :'D\n",
        "print(len(model.exchanges))"
      ],
      "metadata": {
        "colab": {
          "base_uri": "https://localhost:8080/"
        },
        "id": "7k-8NmJ5A-yt",
        "outputId": "78a8ae9e-6af6-41fd-c18d-6dec7ec6ca76"
      },
      "execution_count": null,
      "outputs": [
        {
          "output_type": "stream",
          "name": "stdout",
          "text": [
            "324\n"
          ]
        }
      ]
    },
    {
      "cell_type": "markdown",
      "source": [
        "**Let's see what if the model grows on succinate, meaning glucose's uptake (lower bound) = 0.**\n",
        "\n",
        "**And let's do it once for aerobic and once for anaerobic and compare!**\n",
        "\n",
        "**To know the desired reaction's name or ID, you can use pattern search or just CTRL + F if you're lucky you'll find it. But usually there is certain naming conventions that can help you guess the name without even searching for it. This time, the reaction ID is: EX_succ_e**"
      ],
      "metadata": {
        "id": "gdr55__ZBR8U"
      }
    },
    {
      "cell_type": "code",
      "source": [
        "# Aerobic Conditions\n",
        "model.reactions.EX_o2_e.lower_bound = -1000\n",
        "model.reactions.EX_glc__D_e.lower_bound = 0 # turn off the glucose\n",
        "model.reactions.EX_succ_e.lower_bound = -20 # 20 as recommended by the main paper that made the model\n",
        "\n",
        "solution = model.optimize()\n",
        "print(\"Aerobic Conditions: \", solution.objective_value)"
      ],
      "metadata": {
        "colab": {
          "base_uri": "https://localhost:8080/"
        },
        "id": "wMGgPYGNBa2o",
        "outputId": "a865ec2f-ab30-4e09-abda-1a6633a5eff9"
      },
      "execution_count": null,
      "outputs": [
        {
          "output_type": "stream",
          "name": "stdout",
          "text": [
            "Aerobic Conditions:  0.9985348955292235\n"
          ]
        }
      ]
    },
    {
      "cell_type": "code",
      "source": [
        "metabolicMapSuccinateAerobic = escher.Builder(map_name='iJO1366.Central metabolism',\n",
        "                              reaction_data=solution.fluxes,\n",
        "                              # color and size according to the absolute value\n",
        "                              reaction_styles=['color', 'size', 'abs', 'text'],\n",
        "                              # change the default colors\n",
        "                              reaction_scale=[{'type': 'min', 'color': '#cccccc', 'size': 4},\n",
        "                                              {'type': 'mean', 'color': '#0000dd', 'size': 20},\n",
        "                                              {'type': 'max', 'color': '#ff0000', 'size': 40}],\n",
        "                              # only show the primary metabolites\n",
        "                              hide_secondary_metabolites=True)\n",
        "metabolicMapSuccinateAerobic.save_html(\"map4.html\")"
      ],
      "metadata": {
        "colab": {
          "base_uri": "https://localhost:8080/",
          "height": 34
        },
        "id": "uM_ruFdVCner",
        "outputId": "03e14de5-2107-44e4-ea32-58e1ca207607"
      },
      "execution_count": null,
      "outputs": [
        {
          "output_type": "stream",
          "name": "stdout",
          "text": [
            "Downloading Map from https://escher.github.io/1-0-0/6/maps/Escherichia%20coli/iJO1366.Central%20metabolism.json\n"
          ]
        }
      ]
    },
    {
      "cell_type": "markdown",
      "source": [
        "**Can you do it for the anaerobic case? Write the code, visualize the map, and answer what do you notice and what's your interpretation? You'll find something interesting ;)**"
      ],
      "metadata": {
        "id": "zQ2UBrVhC2O8"
      }
    },
    {
      "cell_type": "code",
      "source": [
        "# Your answer here."
      ],
      "metadata": {
        "id": "LUs6qyEIKHT9"
      },
      "execution_count": null,
      "outputs": []
    },
    {
      "cell_type": "markdown",
      "source": [
        "*Now the interesting question is what if we want to check the growth for each and every possible exchange reaction? Both aerobically and anaerobically? For that we can use loops and functions and store the answer in a pandas dataframe (tabular format) where the columns are \"aerobic\" and \"anaerobic\" and the rows correspond to the possible carbon sources. The value corresponds to the maximum growth rate upon using that sugar source in aerobic and anaerobic conditions. We can fix the lower bound of all substrates to -20.*\n",
        "\n",
        "**While you're not required to officially do this task for now, you may do it for fun if you wish :\"D**"
      ],
      "metadata": {
        "id": "9CLuMoXgDOZb"
      }
    },
    {
      "cell_type": "markdown",
      "source": [
        "**Now... what if we want to maximize some metabolic precursor or a substrate? like ATP or succinic acid?**\n",
        "- Write code to maximize ATP production in the anaerobic case. I will do the aerobic case and you do the anaerobic one."
      ],
      "metadata": {
        "id": "AZrrfzo-JwNw"
      }
    },
    {
      "cell_type": "markdown",
      "source": [
        "**Aerobic Case**"
      ],
      "metadata": {
        "id": "zf5OHN3LXh94"
      }
    },
    {
      "cell_type": "code",
      "source": [
        "# We set oxygen lower bound to -1000, glucose to exactly -1 (to see ATP flux per 1 mol of Glucose)\n",
        "model.reactions.EX_o2_e.lower_bound = -1000\n",
        "model.reactions.EX_glc__D_e.lower_bound = -1\n",
        "model.reactions.EX_glc__D_e.upper_bound = -1\n",
        "\n",
        "# We want to see the bounds for succinate and pyruvate since we don't need any carbon sources other than glucose\n",
        "print(model.reactions.EX_succ_e.lower_bound) # -20, so we should turn it off\n",
        "print(model.reactions.EX_pyr_e.lower_bound) # 0, meaning it's already turned off\n",
        "\n",
        "model.reactions.EX_succ_e.lower_bound = 0\n",
        "print(model.reactions.EX_succ_e.lower_bound) # now it's 0"
      ],
      "metadata": {
        "colab": {
          "base_uri": "https://localhost:8080/"
        },
        "id": "ytzWvnvYRe5Z",
        "outputId": "4b94bd32-aae9-4068-9dc3-3e941123b460"
      },
      "execution_count": null,
      "outputs": [
        {
          "output_type": "stream",
          "name": "stdout",
          "text": [
            "-20\n",
            "0.0\n",
            "0\n"
          ]
        }
      ]
    },
    {
      "cell_type": "code",
      "source": [
        "# What about the ATP reaction itself? Its ID is \"ATPM\", short for ATP maintenance.\n",
        "# Let's see its bounds before setting it to the objective.\n",
        "print(model.reactions.ATPM.lower_bound)\n",
        "print(model.reactions.ATPM.upper_bound)\n",
        "\n",
        "# We can see that the lower bound is 3.15, meaning that there must be a minimal amount of ATP that is consumed as an outflux.\n",
        "# This minimal amount corresponds to the non-growth associated maintenance (NGAM), which is minimal amount of ATP used by the cell for non-growth purposes.\n",
        "# Since we are maximizing ATP production (outflux), this number should be 0.\n",
        "# To help you understand, let's check the ATP reaction itself.\n",
        "print(model.reactions.ATPM.reaction)\n",
        "# atp_c + h2o_c --> adp_c + h_c + pi_c\n",
        "# It's a reaction that hydrolyzes ATP to ADP + phosphate + proton.\n",
        "# Why are we maximizing ATP outflux when we want to maximize production (influx)?\n",
        "# Because for the cell to maximize consumption, it needs to maximize the internal pathways that produce it!! so it's the same question!\n",
        "# Setting the lower bound to NGAM is assuming that the cell consumes at least a minimum amount of ATP, but when you want to maximize ATP consumption (production), you assume that this NGAM itself may not be consumed (produced) and therefore more optimization flexibility.\n",
        "\n",
        "# But at any rate, let's see both cases and see the difference.\n",
        "model.reactions.ATPM.lower_bound = 0\n",
        "model.objective = 'ATPM'\n",
        "solution = model.optimize()\n",
        "print(solution.objective_value) # 23.5 mol ATP / mol Glucose\n",
        "\n",
        "# now with the constraint\n",
        "model.reactions.ATPM.lower_bound = 3.15\n",
        "model.objective = 'ATPM'\n",
        "solution2 = model.optimize()\n",
        "print(solution2.objective_value) # 23.5 mol ATP / mol Glucose\n",
        "\n",
        "# Nothing changed! So in this case, the realistic constraint of NGAM did not affect growth efficiency."
      ],
      "metadata": {
        "colab": {
          "base_uri": "https://localhost:8080/"
        },
        "id": "9iIO1573Turm",
        "outputId": "77e307c5-2d2d-4dbe-f088-ac01d4afb179"
      },
      "execution_count": null,
      "outputs": [
        {
          "output_type": "stream",
          "name": "stdout",
          "text": [
            "3.15\n",
            "1000.0\n",
            "atp_c + h2o_c --> adp_c + h_c + pi_c\n",
            "23.499999999999957\n",
            "23.499999999999954\n"
          ]
        }
      ]
    },
    {
      "cell_type": "markdown",
      "source": [
        "**We want to see which reaction affects ATP production the most. For that, we see the reduced cost! It's the derivative of the objective function with respect to intenral reactions, highlighting how much each reaction affects the objective.**\n",
        "\n",
        "**Similarly, we have something called shadow price. It's similar to reduced cost, but instead of derivative w.r.t reaction, it's w.r.t metabolites!**"
      ],
      "metadata": {
        "id": "EJnSObPEZZ_B"
      }
    },
    {
      "cell_type": "code",
      "source": [
        "print(model.metabolites.h_c.y) # .y is for accessing the shadow price\n",
        "# h_c is cytosolic proton\n",
        "\n",
        "# note that the sign needs to be flipped to get the standard interpretation:\n",
        "# that is, +0.25, which is considered -0.25, means that every 4 mols of cytosolic proton / 1 mol Glucose reduces ATP yield by 1 mol ATP / 1 mol Glucose\n",
        "# This makes sense because ATP productions depends on ATP synthase, which needs a proton gradient. If there is buildup of protons in the cytosol, it is generally inhibitory for ATP production.\n",
        "\n",
        "print(model.metabolites.glc__D_c.y)\n",
        "# the shadow price is -23.5, which means +23.5. This means that 1 mol Glucose increases ATP yield by 23.5 mols."
      ],
      "metadata": {
        "colab": {
          "base_uri": "https://localhost:8080/"
        },
        "id": "Ou9eVj43ZpJf",
        "outputId": "474f6ed2-35c7-4751-84f3-795075225104"
      },
      "execution_count": null,
      "outputs": [
        {
          "output_type": "stream",
          "name": "stdout",
          "text": [
            "0.24999999999999986\n",
            "-23.499999999999922\n"
          ]
        }
      ]
    },
    {
      "cell_type": "markdown",
      "source": [
        "**Now do exactly the same for the anaerobic case and write your interpretations**"
      ],
      "metadata": {
        "id": "hRpNSaH9XpT1"
      }
    },
    {
      "cell_type": "code",
      "source": [
        "# Your answer here."
      ],
      "metadata": {
        "id": "j_lEIbIxKDmf"
      },
      "execution_count": null,
      "outputs": []
    },
    {
      "cell_type": "markdown",
      "source": [
        "**FINAL QUESTION FOR THIS TUTORIAL!!**\n",
        "- Write code to generate a plot showing the relationship between succinic acid (objective function) and biomass. We may agree that smaller biomass fluxes (more constraint on biomass) will yield more succinic acid, but the question is how much and in what way? Is it a linear or non-linear relationship?"
      ],
      "metadata": {
        "id": "BLLS0UChLIgf"
      }
    },
    {
      "cell_type": "code",
      "source": [
        "# Your answer here."
      ],
      "metadata": {
        "id": "uyGcHzEiL0I8"
      },
      "execution_count": 17,
      "outputs": []
    },
    {
      "cell_type": "markdown",
      "source": [
        "**Next tutorial, we will discuss Flux Variability Analysis, Robustness Analysis, and Gene Deletions (Virtual CRISPR Screens :'D)**"
      ],
      "metadata": {
        "id": "T46oSLcQE6qi"
      }
    },
    {
      "cell_type": "markdown",
      "source": [
        "References:\n",
        "1. https://github.com/webermarcolivier/metabolic_modelling_jupyter_tutorial/blob/master/Solution/tutorial5_FBA_exercise1_solution.ipynb\n",
        "2. https://www.nature.com/articles/nbt.1614\n",
        "3. https://www.embopress.org/doi/full/10.1038/msb.2011.65\n",
        "4. http://bigg.ucsd.edu/models/iJO1366"
      ],
      "metadata": {
        "id": "_WHIQ_iLF5oh"
      }
    },
    {
      "cell_type": "code",
      "source": [],
      "metadata": {
        "id": "vbbeF0ENGJYK"
      },
      "execution_count": null,
      "outputs": []
    }
  ]
}