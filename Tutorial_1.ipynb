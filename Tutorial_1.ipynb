{
  "nbformat": 4,
  "nbformat_minor": 0,
  "metadata": {
    "colab": {
      "provenance": [],
      "collapsed_sections": [
        "3v-Gk0C9d2uy",
        "hFcWGwsZeVkR",
        "A99PeV-VfQgo",
        "E9XxSvckfYlI",
        "x32SHlPMfxNv",
        "wT0QfOBpgzVH"
      ]
    },
    "kernelspec": {
      "name": "python3",
      "display_name": "Python 3"
    },
    "language_info": {
      "name": "python"
    }
  },
  "cells": [
    {
      "cell_type": "markdown",
      "source": [
        "# **Install CobraPy, Escher, and Import Necessary Objects**"
      ],
      "metadata": {
        "id": "3v-Gk0C9d2uy"
      }
    },
    {
      "cell_type": "code",
      "execution_count": 1,
      "metadata": {
        "colab": {
          "base_uri": "https://localhost:8080/"
        },
        "id": "2AbKFtmRalqg",
        "outputId": "09553687-c211-406c-9760-e70407f9bff9"
      },
      "outputs": [
        {
          "output_type": "stream",
          "name": "stdout",
          "text": [
            "Requirement already satisfied: cobra in /usr/local/lib/python3.10/dist-packages (0.29.1)\n",
            "Requirement already satisfied: appdirs~=1.4 in /usr/local/lib/python3.10/dist-packages (from cobra) (1.4.4)\n",
            "Requirement already satisfied: depinfo~=2.2 in /usr/local/lib/python3.10/dist-packages (from cobra) (2.2.0)\n",
            "Requirement already satisfied: diskcache~=5.0 in /usr/local/lib/python3.10/dist-packages (from cobra) (5.6.3)\n",
            "Requirement already satisfied: future in /usr/local/lib/python3.10/dist-packages (from cobra) (1.0.0)\n",
            "Requirement already satisfied: httpx~=0.24 in /usr/local/lib/python3.10/dist-packages (from cobra) (0.27.2)\n",
            "Requirement already satisfied: importlib-resources in /usr/local/lib/python3.10/dist-packages (from cobra) (6.4.5)\n",
            "Requirement already satisfied: numpy>=1.13 in /usr/local/lib/python3.10/dist-packages (from cobra) (1.26.4)\n",
            "Requirement already satisfied: optlang~=1.8 in /usr/local/lib/python3.10/dist-packages (from cobra) (1.8.2)\n",
            "Requirement already satisfied: pandas<3.0,>=1.0 in /usr/local/lib/python3.10/dist-packages (from cobra) (2.1.4)\n",
            "Requirement already satisfied: pydantic>=1.6 in /usr/local/lib/python3.10/dist-packages (from cobra) (2.9.2)\n",
            "Requirement already satisfied: python-libsbml~=5.19 in /usr/local/lib/python3.10/dist-packages (from cobra) (5.20.4)\n",
            "Requirement already satisfied: rich>=8.0 in /usr/local/lib/python3.10/dist-packages (from cobra) (13.8.1)\n",
            "Requirement already satisfied: ruamel.yaml~=0.16 in /usr/local/lib/python3.10/dist-packages (from cobra) (0.18.6)\n",
            "Requirement already satisfied: swiglpk in /usr/local/lib/python3.10/dist-packages (from cobra) (5.0.10)\n",
            "Requirement already satisfied: anyio in /usr/local/lib/python3.10/dist-packages (from httpx~=0.24->cobra) (3.7.1)\n",
            "Requirement already satisfied: certifi in /usr/local/lib/python3.10/dist-packages (from httpx~=0.24->cobra) (2024.8.30)\n",
            "Requirement already satisfied: httpcore==1.* in /usr/local/lib/python3.10/dist-packages (from httpx~=0.24->cobra) (1.0.5)\n",
            "Requirement already satisfied: idna in /usr/local/lib/python3.10/dist-packages (from httpx~=0.24->cobra) (3.10)\n",
            "Requirement already satisfied: sniffio in /usr/local/lib/python3.10/dist-packages (from httpx~=0.24->cobra) (1.3.1)\n",
            "Requirement already satisfied: h11<0.15,>=0.13 in /usr/local/lib/python3.10/dist-packages (from httpcore==1.*->httpx~=0.24->cobra) (0.14.0)\n",
            "Requirement already satisfied: sympy>=1.12.0 in /usr/local/lib/python3.10/dist-packages (from optlang~=1.8->cobra) (1.13.3)\n",
            "Requirement already satisfied: python-dateutil>=2.8.2 in /usr/local/lib/python3.10/dist-packages (from pandas<3.0,>=1.0->cobra) (2.8.2)\n",
            "Requirement already satisfied: pytz>=2020.1 in /usr/local/lib/python3.10/dist-packages (from pandas<3.0,>=1.0->cobra) (2024.2)\n",
            "Requirement already satisfied: tzdata>=2022.1 in /usr/local/lib/python3.10/dist-packages (from pandas<3.0,>=1.0->cobra) (2024.1)\n",
            "Requirement already satisfied: annotated-types>=0.6.0 in /usr/local/lib/python3.10/dist-packages (from pydantic>=1.6->cobra) (0.7.0)\n",
            "Requirement already satisfied: pydantic-core==2.23.4 in /usr/local/lib/python3.10/dist-packages (from pydantic>=1.6->cobra) (2.23.4)\n",
            "Requirement already satisfied: typing-extensions>=4.6.1 in /usr/local/lib/python3.10/dist-packages (from pydantic>=1.6->cobra) (4.12.2)\n",
            "Requirement already satisfied: markdown-it-py>=2.2.0 in /usr/local/lib/python3.10/dist-packages (from rich>=8.0->cobra) (3.0.0)\n",
            "Requirement already satisfied: pygments<3.0.0,>=2.13.0 in /usr/local/lib/python3.10/dist-packages (from rich>=8.0->cobra) (2.18.0)\n",
            "Requirement already satisfied: ruamel.yaml.clib>=0.2.7 in /usr/local/lib/python3.10/dist-packages (from ruamel.yaml~=0.16->cobra) (0.2.8)\n",
            "Requirement already satisfied: mdurl~=0.1 in /usr/local/lib/python3.10/dist-packages (from markdown-it-py>=2.2.0->rich>=8.0->cobra) (0.1.2)\n",
            "Requirement already satisfied: six>=1.5 in /usr/local/lib/python3.10/dist-packages (from python-dateutil>=2.8.2->pandas<3.0,>=1.0->cobra) (1.16.0)\n",
            "Requirement already satisfied: mpmath<1.4,>=1.1.0 in /usr/local/lib/python3.10/dist-packages (from sympy>=1.12.0->optlang~=1.8->cobra) (1.3.0)\n",
            "Requirement already satisfied: exceptiongroup in /usr/local/lib/python3.10/dist-packages (from anyio->httpx~=0.24->cobra) (1.2.2)\n"
          ]
        }
      ],
      "source": [
        "!pip install cobra\n",
        "import cobra\n",
        "from cobra import Model, Reaction, Metabolite"
      ]
    },
    {
      "cell_type": "markdown",
      "source": [
        "# **Create a model, metabolites, and reactions.**"
      ],
      "metadata": {
        "id": "hFcWGwsZeVkR"
      }
    },
    {
      "cell_type": "code",
      "source": [
        "model = Model('Simple_Model')\n",
        "\n",
        "# Create metabolites\n",
        "A = Metabolite('A', compartment='c', formula='A')\n",
        "B = Metabolite('B', compartment='c', formula='B')\n",
        "C = Metabolite('C', compartment='c', formula='C')\n",
        "\n",
        "# Transport into the system, --> A\n",
        "transport = Reaction('V_transport')\n",
        "transport.name = 'Transport into A'\n",
        "transport.lower_bound = 1 # to constraint the model\n",
        "transport.upper_bound = 1\n",
        "transport.add_metabolites({\n",
        "    A: 1.0  # A is produced (transported in)\n",
        "})\n",
        "\n",
        "# Reaction 1: A -> B\n",
        "v1 = Reaction('v1')\n",
        "v1.name = 'Reaction v1'\n",
        "v1.lower_bound = 0  # irreversible\n",
        "v1.upper_bound = 1000  # arbitrary upper bound\n",
        "v1.add_metabolites({\n",
        "    A: -1.0,  # A is consumed\n",
        "    B: 1.0    # B is produced\n",
        "})\n",
        "\n",
        "# Reaction 2: B -> C\n",
        "v2 = Reaction('v2')\n",
        "v2.name = 'Reaction v2'\n",
        "v2.lower_bound = 0\n",
        "v2.upper_bound = 1000\n",
        "v2.add_metabolites({\n",
        "    B: -1.0,\n",
        "    C: 1.0\n",
        "})\n",
        "\n",
        "# Biomass reaction or export of C\n",
        "mu = Reaction('mu')\n",
        "mu.name = 'C export'\n",
        "mu.lower_bound = 0\n",
        "mu.upper_bound = 1000\n",
        "mu.add_metabolites({\n",
        "    C: -1.0\n",
        "})"
      ],
      "metadata": {
        "id": "cW6FM-2UbA8L"
      },
      "execution_count": 2,
      "outputs": []
    },
    {
      "cell_type": "markdown",
      "source": [
        "# **Add Reactions to the Model**"
      ],
      "metadata": {
        "id": "A99PeV-VfQgo"
      }
    },
    {
      "cell_type": "code",
      "source": [
        "model.add_reactions([v1, v2, transport, mu])"
      ],
      "metadata": {
        "id": "J3pmNP_xfTnI"
      },
      "execution_count": 3,
      "outputs": []
    },
    {
      "cell_type": "markdown",
      "source": [
        "# **Define the Objective Function and Run FBA**"
      ],
      "metadata": {
        "id": "E9XxSvckfYlI"
      }
    },
    {
      "cell_type": "code",
      "source": [
        "# Define the objective (for example, maximizing the removal of C)\n",
        "model.objective = 'mu'\n",
        "\n",
        "# Run Flux Balance Analysis\n",
        "solution = model.optimize()"
      ],
      "metadata": {
        "id": "tYN9afTvfbMb"
      },
      "execution_count": 4,
      "outputs": []
    },
    {
      "cell_type": "markdown",
      "source": [
        "# **See Model's Outputs**"
      ],
      "metadata": {
        "id": "x32SHlPMfxNv"
      }
    },
    {
      "cell_type": "code",
      "source": [
        "solution.objective_value"
      ],
      "metadata": {
        "colab": {
          "base_uri": "https://localhost:8080/"
        },
        "id": "lPjb0rl4f2bn",
        "outputId": "fc32bbbb-8869-40be-9971-6e71c4d8364f"
      },
      "execution_count": 5,
      "outputs": [
        {
          "output_type": "execute_result",
          "data": {
            "text/plain": [
              "1.0"
            ]
          },
          "metadata": {},
          "execution_count": 5
        }
      ]
    },
    {
      "cell_type": "code",
      "source": [
        "solution.fluxes"
      ],
      "metadata": {
        "colab": {
          "base_uri": "https://localhost:8080/",
          "height": 0
        },
        "id": "3aX51ewWgYwZ",
        "outputId": "1180f08d-b642-4506-deee-01786fbeea0e"
      },
      "execution_count": 6,
      "outputs": [
        {
          "output_type": "execute_result",
          "data": {
            "text/plain": [
              "v1             1.0\n",
              "v2             1.0\n",
              "V_transport    1.0\n",
              "mu             1.0\n",
              "Name: fluxes, dtype: float64"
            ],
            "text/html": [
              "<div>\n",
              "<style scoped>\n",
              "    .dataframe tbody tr th:only-of-type {\n",
              "        vertical-align: middle;\n",
              "    }\n",
              "\n",
              "    .dataframe tbody tr th {\n",
              "        vertical-align: top;\n",
              "    }\n",
              "\n",
              "    .dataframe thead th {\n",
              "        text-align: right;\n",
              "    }\n",
              "</style>\n",
              "<table border=\"1\" class=\"dataframe\">\n",
              "  <thead>\n",
              "    <tr style=\"text-align: right;\">\n",
              "      <th></th>\n",
              "      <th>fluxes</th>\n",
              "    </tr>\n",
              "  </thead>\n",
              "  <tbody>\n",
              "    <tr>\n",
              "      <th>v1</th>\n",
              "      <td>1.0</td>\n",
              "    </tr>\n",
              "    <tr>\n",
              "      <th>v2</th>\n",
              "      <td>1.0</td>\n",
              "    </tr>\n",
              "    <tr>\n",
              "      <th>V_transport</th>\n",
              "      <td>1.0</td>\n",
              "    </tr>\n",
              "    <tr>\n",
              "      <th>mu</th>\n",
              "      <td>1.0</td>\n",
              "    </tr>\n",
              "  </tbody>\n",
              "</table>\n",
              "</div><br><label><b>dtype:</b> float64</label>"
            ]
          },
          "metadata": {},
          "execution_count": 6
        }
      ]
    },
    {
      "cell_type": "code",
      "source": [
        "solution"
      ],
      "metadata": {
        "colab": {
          "base_uri": "https://localhost:8080/",
          "height": 0
        },
        "id": "Wf3SP_W9gpVJ",
        "outputId": "d9877b24-965f-480f-f7f0-9fb61a1302e0"
      },
      "execution_count": 7,
      "outputs": [
        {
          "output_type": "execute_result",
          "data": {
            "text/plain": [
              "<Solution 1.000 at 0x7dc91b0115a0>"
            ],
            "text/html": [
              "<strong><em>Optimal</em> solution with objective value 1.000</strong><br><div>\n",
              "<style scoped>\n",
              "    .dataframe tbody tr th:only-of-type {\n",
              "        vertical-align: middle;\n",
              "    }\n",
              "\n",
              "    .dataframe tbody tr th {\n",
              "        vertical-align: top;\n",
              "    }\n",
              "\n",
              "    .dataframe thead th {\n",
              "        text-align: right;\n",
              "    }\n",
              "</style>\n",
              "<table border=\"1\" class=\"dataframe\">\n",
              "  <thead>\n",
              "    <tr style=\"text-align: right;\">\n",
              "      <th></th>\n",
              "      <th>fluxes</th>\n",
              "      <th>reduced_costs</th>\n",
              "    </tr>\n",
              "  </thead>\n",
              "  <tbody>\n",
              "    <tr>\n",
              "      <th>v1</th>\n",
              "      <td>1.0</td>\n",
              "      <td>0.0</td>\n",
              "    </tr>\n",
              "    <tr>\n",
              "      <th>v2</th>\n",
              "      <td>1.0</td>\n",
              "      <td>0.0</td>\n",
              "    </tr>\n",
              "    <tr>\n",
              "      <th>V_transport</th>\n",
              "      <td>1.0</td>\n",
              "      <td>2.0</td>\n",
              "    </tr>\n",
              "    <tr>\n",
              "      <th>mu</th>\n",
              "      <td>1.0</td>\n",
              "      <td>0.0</td>\n",
              "    </tr>\n",
              "  </tbody>\n",
              "</table>\n",
              "</div>"
            ]
          },
          "metadata": {},
          "execution_count": 7
        }
      ]
    },
    {
      "cell_type": "markdown",
      "source": [
        "# **Save the Model**"
      ],
      "metadata": {
        "id": "wT0QfOBpgzVH"
      }
    },
    {
      "cell_type": "code",
      "source": [
        "cobra.io.save_json_model(model, \"simple_model.json\")"
      ],
      "metadata": {
        "id": "xDIxRYfxgkXv"
      },
      "execution_count": 8,
      "outputs": []
    }
  ]
}